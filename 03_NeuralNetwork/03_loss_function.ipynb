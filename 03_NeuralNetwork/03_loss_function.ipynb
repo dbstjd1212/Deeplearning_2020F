{
 "cells": [
  {
   "cell_type": "code",
   "execution_count": 1,
   "metadata": {
    "executionInfo": {
     "elapsed": 937,
     "status": "ok",
     "timestamp": 1606395988971,
     "user": {
      "displayName": "함윤성",
      "photoUrl": "",
      "userId": "07284553961760174627"
     },
     "user_tz": -540
    },
    "id": "Apu4BegDghp7"
   },
   "outputs": [],
   "source": [
    "import numpy as np"
   ]
  },
  {
   "cell_type": "markdown",
   "metadata": {
    "id": "cTzjgL4qqEwF"
   },
   "source": [
    "**Mean Square Error (MSE)**"
   ]
  },
  {
   "cell_type": "code",
   "execution_count": 2,
   "metadata": {
    "executionInfo": {
     "elapsed": 1415,
     "status": "ok",
     "timestamp": 1606395989462,
     "user": {
      "displayName": "함윤성",
      "photoUrl": "",
      "userId": "07284553961760174627"
     },
     "user_tz": -540
    },
    "id": "iC_ojQkEqGfr"
   },
   "outputs": [],
   "source": [
    "def MSE(y, t):\n",
    "    loss = 0.5 * np.sum((y-t)**2)\n",
    "    return loss"
   ]
  },
  {
   "cell_type": "code",
   "execution_count": 3,
   "metadata": {
    "executionInfo": {
     "elapsed": 1411,
     "status": "ok",
     "timestamp": 1606395989463,
     "user": {
      "displayName": "함윤성",
      "photoUrl": "",
      "userId": "07284553961760174627"
     },
     "user_tz": -540
    },
    "id": "ZTA-MgvzqHB9"
   },
   "outputs": [],
   "source": [
    "t = [ 0, 0, 1, 0, 0, 0, 0, 0, 0, 0]\n",
    "\n",
    "y1 = [0.2, 0.01, 0.5, 0.0, 0.02, 0.01, 0.0, 0.15, 0.1, 0.02]\n",
    "y2 = [0.2, 0.01, 0.0, 0.5, 0.02, 0.01, 0.0, 0.15, 0.1, 0.02]"
   ]
  },
  {
   "cell_type": "code",
   "execution_count": 4,
   "metadata": {
    "executionInfo": {
     "elapsed": 1407,
     "status": "ok",
     "timestamp": 1606395989463,
     "user": {
      "displayName": "함윤성",
      "photoUrl": "",
      "userId": "07284553961760174627"
     },
     "user_tz": -540
    },
    "id": "utUOSy-6qG7a"
   },
   "outputs": [],
   "source": [
    "loss1 = MSE(np.array(t), np.array(y1))\n",
    "loss2 = MSE(np.array(t), np.array(y2))"
   ]
  },
  {
   "cell_type": "code",
   "execution_count": 5,
   "metadata": {
    "colab": {
     "base_uri": "https://localhost:8080/"
    },
    "executionInfo": {
     "elapsed": 1404,
     "status": "ok",
     "timestamp": 1606395989464,
     "user": {
      "displayName": "함윤성",
      "photoUrl": "",
      "userId": "07284553961760174627"
     },
     "user_tz": -540
    },
    "id": "mkHTAVJoqGvu",
    "outputId": "8f8302e7-636a-4876-d3cd-c08d71689769"
   },
   "outputs": [
    {
     "name": "stdout",
     "output_type": "stream",
     "text": [
      "0.66175\n"
     ]
    }
   ],
   "source": [
    "print(loss2)"
   ]
  },
  {
   "cell_type": "markdown",
   "metadata": {
    "id": "pS3qSnoRqMXB"
   },
   "source": [
    "**교차 엔트로피 오차: Cross Entropy Error**\n",
    "\n",
    "$$ loss =  - \\Sigma t * log(y) $$"
   ]
  },
  {
   "cell_type": "code",
   "execution_count": 6,
   "metadata": {
    "executionInfo": {
     "elapsed": 953,
     "status": "ok",
     "timestamp": 1606395993208,
     "user": {
      "displayName": "함윤성",
      "photoUrl": "",
      "userId": "07284553961760174627"
     },
     "user_tz": -540
    },
    "id": "J_4BRjj6qO-H"
   },
   "outputs": [],
   "source": [
    "def CEE(y, t):\n",
    "    epsilon = 0.00000001\n",
    "    v_temp = t * np.log(y + epsilon)\n",
    "    loss = -np.sum(v_temp)\n",
    "    return loss"
   ]
  },
  {
   "cell_type": "code",
   "execution_count": 7,
   "metadata": {
    "colab": {
     "base_uri": "https://localhost:8080/"
    },
    "executionInfo": {
     "elapsed": 1281,
     "status": "ok",
     "timestamp": 1606395994598,
     "user": {
      "displayName": "함윤성",
      "photoUrl": "",
      "userId": "07284553961760174627"
     },
     "user_tz": -540
    },
    "id": "S3jlA3xBqPIg",
    "outputId": "7a7a51de-a4f1-4fcc-a3aa-46b2f7b1fc49"
   },
   "outputs": [
    {
     "name": "stdout",
     "output_type": "stream",
     "text": [
      "9.394547174415708\n"
     ]
    }
   ],
   "source": [
    "l1 = CEE(np.array(t), np.array(y1))\n",
    "print(l1)"
   ]
  },
  {
   "cell_type": "code",
   "execution_count": 8,
   "metadata": {
    "colab": {
     "base_uri": "https://localhost:8080/"
    },
    "executionInfo": {
     "elapsed": 1612,
     "status": "ok",
     "timestamp": 1606395995654,
     "user": {
      "displayName": "함윤성",
      "photoUrl": "",
      "userId": "07284553961760174627"
     },
     "user_tz": -540
    },
    "id": "6gAW_g4fqPFD",
    "outputId": "e51109d7-0560-4a61-dff2-004958e4f958"
   },
   "outputs": [
    {
     "name": "stdout",
     "output_type": "stream",
     "text": [
      "18.60488755139189\n"
     ]
    }
   ],
   "source": [
    "l2 = CEE(np.array(t), np.array(y2))\n",
    "print(l2)"
   ]
  },
  {
   "cell_type": "code",
   "execution_count": 9,
   "metadata": {
    "executionInfo": {
     "elapsed": 1068,
     "status": "ok",
     "timestamp": 1606395995656,
     "user": {
      "displayName": "함윤성",
      "photoUrl": "",
      "userId": "07284553961760174627"
     },
     "user_tz": -540
    },
    "id": "YZKjWVFMqPBy"
   },
   "outputs": [],
   "source": [
    "t  = [ 0, 1]\n",
    "\n",
    "y1 = [ 0.2, 0.8]\n",
    "y2 = [ 0.8, 0.2]\n",
    "y3 = [ 0.1, 0.9]"
   ]
  },
  {
   "cell_type": "markdown",
   "metadata": {
    "id": "oFBQJFmaqve-"
   },
   "source": [
    "* TODO: 아래처럼 loss를 출력해보세요"
   ]
  },
  {
   "cell_type": "code",
   "execution_count": 10,
   "metadata": {
    "executionInfo": {
     "elapsed": 879,
     "status": "ok",
     "timestamp": 1606396043291,
     "user": {
      "displayName": "함윤성",
      "photoUrl": "",
      "userId": "07284553961760174627"
     },
     "user_tz": -540
    },
    "id": "nQIYKl32qcBV"
   },
   "outputs": [],
   "source": [
    "loss1 = MSE(np.array(t), np.array(y1))\n",
    "loss2 = MSE(np.array(t), np.array(y2))\n",
    "loss3 = MSE(np.array(t), np.array(y3))"
   ]
  },
  {
   "cell_type": "code",
   "execution_count": 11,
   "metadata": {
    "colab": {
     "base_uri": "https://localhost:8080/"
    },
    "executionInfo": {
     "elapsed": 660,
     "status": "ok",
     "timestamp": 1606396071410,
     "user": {
      "displayName": "함윤성",
      "photoUrl": "",
      "userId": "07284553961760174627"
     },
     "user_tz": -540
    },
    "id": "dj84Q5tYqnkZ",
    "outputId": "38d08965-aa3c-4f1b-f88c-e0f2ef6be23a"
   },
   "outputs": [
    {
     "name": "stdout",
     "output_type": "stream",
     "text": [
      "0.039999999999999994\n",
      "0.6400000000000001\n",
      "0.009999999999999998\n"
     ]
    }
   ],
   "source": [
    "print(loss1)\n",
    "print(loss2)\n",
    "print(loss3)"
   ]
  }
 ],
 "metadata": {
  "colab": {
   "authorship_tag": "ABX9TyP+zLzuZQcjv1H6ph8UI+eU",
   "collapsed_sections": [],
   "name": "03_loss_function.ipynb",
   "provenance": []
  },
  "kernelspec": {
   "display_name": "Python 3",
   "name": "python3"
  }
 },
 "nbformat": 4,
 "nbformat_minor": 0
}
