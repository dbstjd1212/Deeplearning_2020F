{
 "cells": [
  {
   "cell_type": "code",
   "execution_count": 1,
   "metadata": {
    "executionInfo": {
     "elapsed": 961,
     "status": "ok",
     "timestamp": 1606394017428,
     "user": {
      "displayName": "함윤성",
      "photoUrl": "",
      "userId": "07284553961760174627"
     },
     "user_tz": -540
    },
    "id": "TPFIc4UdgoEH"
   },
   "outputs": [],
   "source": [
    "import numpy as np"
   ]
  },
  {
   "cell_type": "markdown",
   "metadata": {
    "id": "T92sRUpvib7O"
   },
   "source": [
    "**3층 신경망 구현**"
   ]
  },
  {
   "cell_type": "code",
   "execution_count": 2,
   "metadata": {
    "executionInfo": {
     "elapsed": 958,
     "status": "ok",
     "timestamp": 1606394017430,
     "user": {
      "displayName": "함윤성",
      "photoUrl": "",
      "userId": "07284553961760174627"
     },
     "user_tz": -540
    },
    "id": "xFRd4lbEicR-"
   },
   "outputs": [],
   "source": [
    "def sigmoid(x):\n",
    "    return 1 / (1+np.exp(-x))"
   ]
  },
  {
   "cell_type": "code",
   "execution_count": 3,
   "metadata": {
    "executionInfo": {
     "elapsed": 955,
     "status": "ok",
     "timestamp": 1606394017430,
     "user": {
      "displayName": "함윤성",
      "photoUrl": "",
      "userId": "07284553961760174627"
     },
     "user_tz": -540
    },
    "id": "m7_KlAceicm8"
   },
   "outputs": [],
   "source": [
    "def identity_function(x):\n",
    "    return x"
   ]
  },
  {
   "cell_type": "code",
   "execution_count": 4,
   "metadata": {
    "executionInfo": {
     "elapsed": 954,
     "status": "ok",
     "timestamp": 1606394017431,
     "user": {
      "displayName": "함윤성",
      "photoUrl": "",
      "userId": "07284553961760174627"
     },
     "user_tz": -540
    },
    "id": "DMoLOt9ViclB"
   },
   "outputs": [],
   "source": [
    "def init_network():\n",
    "    network = {}\n",
    "    network['W1']= np.array([[0.1, 0.3, 0.5], [0.2, 0.4, 0.6]])\n",
    "    network['b1']= np.array([0.1, 0.2, 0.3])\n",
    "    network['W2']= np.array([[0.1, 0.4], [0.2, 0.5], [0.3, 0.6]])\n",
    "    network['b2']= np.array([0.1, 0.2])\n",
    "    network['W3']= np.array([[0.1, 0.3], [0.2, 0.4]])\n",
    "    network['b3']= np.array([0.1, 0.2])\n",
    "    \n",
    "    return network"
   ]
  },
  {
   "cell_type": "code",
   "execution_count": 5,
   "metadata": {
    "executionInfo": {
     "elapsed": 953,
     "status": "ok",
     "timestamp": 1606394017431,
     "user": {
      "displayName": "함윤성",
      "photoUrl": "",
      "userId": "07284553961760174627"
     },
     "user_tz": -540
    },
    "id": "BumB92puici_"
   },
   "outputs": [],
   "source": [
    "def forward(network, x):\n",
    "    W1, W2, W3 = network['W1'], network['W2'], network['W3']\n",
    "    b1, b2, b3 = network['b1'], network['b2'], network['b3']\n",
    "    \n",
    "    a1 = np.dot(x, W1) + b1\n",
    "    z1 = sigmoid(a1)\n",
    "    a2 = np.dot(z1, W2) + b2\n",
    "    z2 = sigmoid(a2)\n",
    "    a3 = np.dot(z2, W3) + b3\n",
    "    y = identity_function(a3)\n",
    "\n",
    "    return y"
   ]
  },
  {
   "cell_type": "code",
   "execution_count": 6,
   "metadata": {
    "colab": {
     "base_uri": "https://localhost:8080/"
    },
    "executionInfo": {
     "elapsed": 952,
     "status": "ok",
     "timestamp": 1606394017432,
     "user": {
      "displayName": "함윤성",
      "photoUrl": "",
      "userId": "07284553961760174627"
     },
     "user_tz": -540
    },
    "id": "SOKed7mAichF",
    "outputId": "53e34fa1-56fd-48f8-c8c9-a076165e9849"
   },
   "outputs": [
    {
     "name": "stdout",
     "output_type": "stream",
     "text": [
      "[0.31682708 0.69627909]\n"
     ]
    }
   ],
   "source": [
    "network = init_network()\n",
    "x = np.array([1.0, 0.5])   \n",
    "y = forward(network, x)   \n",
    "print(y) "
   ]
  },
  {
   "cell_type": "code",
   "execution_count": 7,
   "metadata": {
    "colab": {
     "base_uri": "https://localhost:8080/"
    },
    "executionInfo": {
     "elapsed": 950,
     "status": "ok",
     "timestamp": 1606394017432,
     "user": {
      "displayName": "함윤성",
      "photoUrl": "",
      "userId": "07284553961760174627"
     },
     "user_tz": -540
    },
    "id": "dNJXgWQeicfm",
    "outputId": "8838f97e-a1a9-4503-f74b-392e0bd8f3ef"
   },
   "outputs": [
    {
     "name": "stdout",
     "output_type": "stream",
     "text": [
      "[0.31880699 0.70067488]\n"
     ]
    }
   ],
   "source": [
    "network = init_network()\n",
    "x = np.array([0.8, 1.0])  \n",
    "y = forward(network, x)    \n",
    "print(y)"
   ]
  }
 ],
 "metadata": {
  "colab": {
   "authorship_tag": "ABX9TyM2HxdOPG5C2OKtFC9jzqy+",
   "collapsed_sections": [],
   "name": "01_2_NN_Forward_Class.ipynb",
   "provenance": []
  },
  "kernelspec": {
   "display_name": "Python 3",
   "name": "python3"
  }
 },
 "nbformat": 4,
 "nbformat_minor": 0
}
