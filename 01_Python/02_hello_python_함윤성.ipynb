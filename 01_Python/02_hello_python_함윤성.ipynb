{
 "cells": [
  {
   "cell_type": "markdown",
   "metadata": {
    "colab_type": "text",
    "id": "AZZuQptLjB6j"
   },
   "source": [
    "# **Python tutorial #2**"
   ]
  },
  {
   "cell_type": "code",
   "execution_count": null,
   "metadata": {
    "colab": {},
    "colab_type": "code",
    "id": "CIdlrRLKi6IM"
   },
   "outputs": [],
   "source": [
    "def hello():\n",
    "  print(\"Hello World\")"
   ]
  },
  {
   "cell_type": "code",
   "execution_count": null,
   "metadata": {
    "colab": {
     "base_uri": "https://localhost:8080/",
     "height": 35
    },
    "colab_type": "code",
    "executionInfo": {
     "elapsed": 679,
     "status": "ok",
     "timestamp": 1599112857331,
     "user": {
      "displayName": "함윤성",
      "photoUrl": "",
      "userId": "14807511260693798205"
     },
     "user_tz": -540
    },
    "id": "GVnsL_9cjHlx",
    "outputId": "afb9850a-8334-4479-be03-6d0e9c0dd799"
   },
   "outputs": [
    {
     "name": "stdout",
     "output_type": "stream",
     "text": [
      "Hello World\n"
     ]
    }
   ],
   "source": [
    "hello()"
   ]
  },
  {
   "cell_type": "code",
   "execution_count": null,
   "metadata": {
    "colab": {},
    "colab_type": "code",
    "id": "eLpgC_VYjHeG"
   },
   "outputs": [],
   "source": [
    "def hello(object):\n",
    "  print(\"Hello \" + object + \"!\")"
   ]
  },
  {
   "cell_type": "code",
   "execution_count": null,
   "metadata": {
    "colab": {
     "base_uri": "https://localhost:8080/",
     "height": 35
    },
    "colab_type": "code",
    "executionInfo": {
     "elapsed": 1190,
     "status": "ok",
     "timestamp": 1599112883906,
     "user": {
      "displayName": "함윤성",
      "photoUrl": "",
      "userId": "14807511260693798205"
     },
     "user_tz": -540
    },
    "id": "9yoS57tIjHbX",
    "outputId": "ae5e5389-8d0f-42a2-dd7f-cebc436a1818"
   },
   "outputs": [
    {
     "name": "stdout",
     "output_type": "stream",
     "text": [
      "Hello cat!\n"
     ]
    }
   ],
   "source": [
    "hello(\"cat\")"
   ]
  },
  {
   "cell_type": "code",
   "execution_count": null,
   "metadata": {
    "colab": {},
    "colab_type": "code",
    "id": "aigdbFYzjHYI"
   },
   "outputs": [],
   "source": [
    "def mySum(a, b):\n",
    "  return a+b"
   ]
  },
  {
   "cell_type": "code",
   "execution_count": null,
   "metadata": {
    "colab": {
     "base_uri": "https://localhost:8080/",
     "height": 35
    },
    "colab_type": "code",
    "executionInfo": {
     "elapsed": 1160,
     "status": "ok",
     "timestamp": 1599112927169,
     "user": {
      "displayName": "함윤성",
      "photoUrl": "",
      "userId": "14807511260693798205"
     },
     "user_tz": -540
    },
    "id": "whQbZUbyjHUB",
    "outputId": "d5c9aadc-3fc0-4298-8988-4f6762eb9f42"
   },
   "outputs": [
    {
     "name": "stdout",
     "output_type": "stream",
     "text": [
      "5\n"
     ]
    }
   ],
   "source": [
    "c = mySum(2, 3)\n",
    "print(c)"
   ]
  },
  {
   "cell_type": "code",
   "execution_count": null,
   "metadata": {
    "colab": {},
    "colab_type": "code",
    "id": "sCug3G-3jHMo"
   },
   "outputs": [],
   "source": [
    "class Man:\n",
    " def __init__(self, name):\n",
    "  self.name = name\n",
    "  print(\"Initialized!\")\n",
    " def hello(self):\n",
    "  print(\"Hello \" + self.name + \" !\")\n",
    "\n",
    " def goodbye(self):\n",
    "  print(\"Good-bye \" + self.name + \" !\")"
   ]
  },
  {
   "cell_type": "code",
   "execution_count": null,
   "metadata": {
    "colab": {
     "base_uri": "https://localhost:8080/",
     "height": 35
    },
    "colab_type": "code",
    "executionInfo": {
     "elapsed": 1040,
     "status": "ok",
     "timestamp": 1599112977561,
     "user": {
      "displayName": "함윤성",
      "photoUrl": "",
      "userId": "14807511260693798205"
     },
     "user_tz": -540
    },
    "id": "jXm4iL9tjHI8",
    "outputId": "49a2322d-2968-4af8-f05f-5772a71f0928"
   },
   "outputs": [
    {
     "name": "stdout",
     "output_type": "stream",
     "text": [
      "Initialized!\n"
     ]
    }
   ],
   "source": [
    "m = Man(\"David\")"
   ]
  },
  {
   "cell_type": "code",
   "execution_count": null,
   "metadata": {
    "colab": {
     "base_uri": "https://localhost:8080/",
     "height": 35
    },
    "colab_type": "code",
    "executionInfo": {
     "elapsed": 1547,
     "status": "ok",
     "timestamp": 1599112978329,
     "user": {
      "displayName": "함윤성",
      "photoUrl": "",
      "userId": "14807511260693798205"
     },
     "user_tz": -540
    },
    "id": "fz0AZDN8jHCb",
    "outputId": "b4db2ad3-1048-4d37-8641-63b8a7485f17"
   },
   "outputs": [
    {
     "name": "stdout",
     "output_type": "stream",
     "text": [
      "Hello David !\n"
     ]
    }
   ],
   "source": [
    "m.hello()"
   ]
  },
  {
   "cell_type": "code",
   "execution_count": null,
   "metadata": {
    "colab": {
     "base_uri": "https://localhost:8080/",
     "height": 35
    },
    "colab_type": "code",
    "executionInfo": {
     "elapsed": 1490,
     "status": "ok",
     "timestamp": 1599112978911,
     "user": {
      "displayName": "함윤성",
      "photoUrl": "",
      "userId": "14807511260693798205"
     },
     "user_tz": -540
    },
    "id": "LeWWiOW6jG-U",
    "outputId": "bdcf369f-94b1-427a-af43-849ce3dc122c"
   },
   "outputs": [
    {
     "name": "stdout",
     "output_type": "stream",
     "text": [
      "Good-bye David !\n"
     ]
    }
   ],
   "source": [
    "m.goodbye()"
   ]
  }
 ],
 "metadata": {
  "colab": {
   "authorship_tag": "ABX9TyPH91MmcbnMisipAK+1si+g",
   "collapsed_sections": [],
   "name": "02_hello_python_함윤성.ipynb",
   "provenance": []
  },
  "kernelspec": {
   "display_name": "Python 3",
   "name": "python3"
  }
 },
 "nbformat": 4,
 "nbformat_minor": 0
}
