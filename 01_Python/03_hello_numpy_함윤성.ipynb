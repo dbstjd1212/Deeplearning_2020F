{
 "cells": [
  {
   "cell_type": "markdown",
   "metadata": {
    "colab_type": "text",
    "id": "jyZrAf6fCzpy"
   },
   "source": [
    "# **Python Numpy Tutorial #1**"
   ]
  },
  {
   "cell_type": "code",
   "execution_count": 5,
   "metadata": {
    "colab": {
     "base_uri": "https://localhost:8080/",
     "height": 35
    },
    "colab_type": "code",
    "executionInfo": {
     "elapsed": 953,
     "status": "ok",
     "timestamp": 1599714838587,
     "user": {
      "displayName": "함윤성",
      "photoUrl": "",
      "userId": "14807511260693798205"
     },
     "user_tz": -540
    },
    "id": "v2GKdpOXUle4",
    "outputId": "4d3f6002-ca0b-4c13-accb-95ed6608b2bd"
   },
   "outputs": [
    {
     "name": "stdout",
     "output_type": "stream",
     "text": [
      "0dab1266421a\n"
     ]
    }
   ],
   "source": [
    "import socket\n",
    "print(socket.gethostname())"
   ]
  },
  {
   "cell_type": "markdown",
   "metadata": {
    "colab_type": "text",
    "id": "Kbry3DuYDKmI"
   },
   "source": [
    "**NumPy**"
   ]
  },
  {
   "cell_type": "code",
   "execution_count": 6,
   "metadata": {
    "colab": {},
    "colab_type": "code",
    "executionInfo": {
     "elapsed": 1662,
     "status": "ok",
     "timestamp": 1599714839299,
     "user": {
      "displayName": "함윤성",
      "photoUrl": "",
      "userId": "14807511260693798205"
     },
     "user_tz": -540
    },
    "id": "WjsjN_H6Cwl1"
   },
   "outputs": [],
   "source": [
    "import numpy as np\n",
    "import matplotlib.pyplot as plt"
   ]
  },
  {
   "cell_type": "markdown",
   "metadata": {
    "colab_type": "text",
    "id": "gZCqclA_DVyG"
   },
   "source": [
    "**List 형태의 배열**"
   ]
  },
  {
   "cell_type": "code",
   "execution_count": 7,
   "metadata": {
    "colab": {},
    "colab_type": "code",
    "executionInfo": {
     "elapsed": 1661,
     "status": "ok",
     "timestamp": 1599714839300,
     "user": {
      "displayName": "함윤성",
      "photoUrl": "",
      "userId": "14807511260693798205"
     },
     "user_tz": -540
    },
    "id": "kstHnvJ5DYUU"
   },
   "outputs": [],
   "source": [
    "a = [1, 2, 3]"
   ]
  },
  {
   "cell_type": "code",
   "execution_count": 8,
   "metadata": {
    "colab": {
     "base_uri": "https://localhost:8080/",
     "height": 35
    },
    "colab_type": "code",
    "executionInfo": {
     "elapsed": 1649,
     "status": "ok",
     "timestamp": 1599714839301,
     "user": {
      "displayName": "함윤성",
      "photoUrl": "",
      "userId": "14807511260693798205"
     },
     "user_tz": -540
    },
    "id": "mpGaHoDRDbA-",
    "outputId": "0a533d29-46ec-4584-cdaf-9b561f65c8ed"
   },
   "outputs": [
    {
     "name": "stdout",
     "output_type": "stream",
     "text": [
      "[1, 2, 3]\n"
     ]
    }
   ],
   "source": [
    "print(a)"
   ]
  },
  {
   "cell_type": "markdown",
   "metadata": {
    "colab_type": "text",
    "id": "KLoeiWhhDeqp"
   },
   "source": [
    "**Numpy 사용한 배열**"
   ]
  },
  {
   "cell_type": "code",
   "execution_count": 9,
   "metadata": {
    "colab": {},
    "colab_type": "code",
    "executionInfo": {
     "elapsed": 1647,
     "status": "ok",
     "timestamp": 1599714839302,
     "user": {
      "displayName": "함윤성",
      "photoUrl": "",
      "userId": "14807511260693798205"
     },
     "user_tz": -540
    },
    "id": "-A2I2ts0Da5q"
   },
   "outputs": [],
   "source": [
    "a = np.array([1, 2, 3])"
   ]
  },
  {
   "cell_type": "code",
   "execution_count": 10,
   "metadata": {
    "colab": {
     "base_uri": "https://localhost:8080/",
     "height": 35
    },
    "colab_type": "code",
    "executionInfo": {
     "elapsed": 1635,
     "status": "ok",
     "timestamp": 1599714839303,
     "user": {
      "displayName": "함윤성",
      "photoUrl": "",
      "userId": "14807511260693798205"
     },
     "user_tz": -540
    },
    "id": "s2aFvxIZDmDU",
    "outputId": "a9e67d28-0730-4e41-91da-aa429497177f"
   },
   "outputs": [
    {
     "name": "stdout",
     "output_type": "stream",
     "text": [
      "[1 2 3]\n"
     ]
    }
   ],
   "source": [
    "print(a)"
   ]
  },
  {
   "cell_type": "code",
   "execution_count": 11,
   "metadata": {
    "colab": {
     "base_uri": "https://localhost:8080/",
     "height": 35
    },
    "colab_type": "code",
    "executionInfo": {
     "elapsed": 1623,
     "status": "ok",
     "timestamp": 1599714839303,
     "user": {
      "displayName": "함윤성",
      "photoUrl": "",
      "userId": "14807511260693798205"
     },
     "user_tz": -540
    },
    "id": "mWr_QQS5DmRJ",
    "outputId": "fe20d970-c6c6-45b5-98db-7b73b9bb75ea"
   },
   "outputs": [
    {
     "data": {
      "text/plain": [
       "(3,)"
      ]
     },
     "execution_count": 11,
     "metadata": {
      "tags": []
     },
     "output_type": "execute_result"
    }
   ],
   "source": [
    "a.shape"
   ]
  },
  {
   "cell_type": "code",
   "execution_count": 12,
   "metadata": {
    "colab": {
     "base_uri": "https://localhost:8080/",
     "height": 53
    },
    "colab_type": "code",
    "executionInfo": {
     "elapsed": 1613,
     "status": "ok",
     "timestamp": 1599714839305,
     "user": {
      "displayName": "함윤성",
      "photoUrl": "",
      "userId": "14807511260693798205"
     },
     "user_tz": -540
    },
    "id": "BPrSKQRLDmA9",
    "outputId": "cd235ebe-801f-4648-f249-632586714aa3"
   },
   "outputs": [
    {
     "name": "stdout",
     "output_type": "stream",
     "text": [
      "(2, 3)\n",
      "1 2 4\n"
     ]
    }
   ],
   "source": [
    "b = np.array([[1, 2, 3],[4, 5, 6]])\n",
    "print(b.shape)\n",
    "print(b[0, 0], b[0, 1], b[1, 0])"
   ]
  },
  {
   "cell_type": "markdown",
   "metadata": {
    "colab_type": "text",
    "id": "Q9eS197gEWQJ"
   },
   "source": [
    "**Axis/axes**\n",
    "\n",
    "\n",
    "* the nth coordinate to index an array in Numpy.\n",
    "* multidimensional arrays can have one index per axis.\n",
    "\n"
   ]
  },
  {
   "cell_type": "code",
   "execution_count": 13,
   "metadata": {
    "colab": {
     "base_uri": "https://localhost:8080/",
     "height": 53
    },
    "colab_type": "code",
    "executionInfo": {
     "elapsed": 1600,
     "status": "ok",
     "timestamp": 1599714839305,
     "user": {
      "displayName": "함윤성",
      "photoUrl": "",
      "userId": "14807511260693798205"
     },
     "user_tz": -540
    },
    "id": "p7gm0ukSEf8i",
    "outputId": "db8959c3-b5e2-4c15-e1e3-51235467126b"
   },
   "outputs": [
    {
     "name": "stdout",
     "output_type": "stream",
     "text": [
      "[[1 2]\n",
      " [3 4]]\n"
     ]
    }
   ],
   "source": [
    "a = np.array([[1, 2], [3, 4]])\n",
    "print(a)"
   ]
  },
  {
   "cell_type": "markdown",
   "metadata": {
    "colab_type": "text",
    "id": "ybTbYb73EpLj"
   },
   "source": [
    "Axis를 지정하지 않으면 전체 평균을 구하게 됨"
   ]
  },
  {
   "cell_type": "code",
   "execution_count": 14,
   "metadata": {
    "colab": {
     "base_uri": "https://localhost:8080/",
     "height": 35
    },
    "colab_type": "code",
    "executionInfo": {
     "elapsed": 1588,
     "status": "ok",
     "timestamp": 1599714839306,
     "user": {
      "displayName": "함윤성",
      "photoUrl": "",
      "userId": "14807511260693798205"
     },
     "user_tz": -540
    },
    "id": "0yceOf6dEtD-",
    "outputId": "f9ba5982-b0ee-4509-bc48-fbc855147153"
   },
   "outputs": [
    {
     "data": {
      "text/plain": [
       "2.5"
      ]
     },
     "execution_count": 14,
     "metadata": {
      "tags": []
     },
     "output_type": "execute_result"
    }
   ],
   "source": [
    "np.mean(a)"
   ]
  },
  {
   "cell_type": "markdown",
   "metadata": {
    "colab_type": "text",
    "id": "MFvodIMaEwgX"
   },
   "source": [
    "Axis 0 방향(↓)"
   ]
  },
  {
   "cell_type": "code",
   "execution_count": 15,
   "metadata": {
    "colab": {
     "base_uri": "https://localhost:8080/",
     "height": 35
    },
    "colab_type": "code",
    "executionInfo": {
     "elapsed": 1572,
     "status": "ok",
     "timestamp": 1599714839306,
     "user": {
      "displayName": "함윤성",
      "photoUrl": "",
      "userId": "14807511260693798205"
     },
     "user_tz": -540
    },
    "id": "sYcgSd0wEw23",
    "outputId": "a9eb4df7-124f-4ffa-c690-ef0c3e7391e5"
   },
   "outputs": [
    {
     "data": {
      "text/plain": [
       "array([2., 3.])"
      ]
     },
     "execution_count": 15,
     "metadata": {
      "tags": []
     },
     "output_type": "execute_result"
    }
   ],
   "source": [
    "np.mean(a, axis=0)"
   ]
  },
  {
   "cell_type": "code",
   "execution_count": 16,
   "metadata": {
    "colab": {
     "base_uri": "https://localhost:8080/",
     "height": 35
    },
    "colab_type": "code",
    "executionInfo": {
     "elapsed": 1556,
     "status": "ok",
     "timestamp": 1599714839306,
     "user": {
      "displayName": "함윤성",
      "photoUrl": "",
      "userId": "14807511260693798205"
     },
     "user_tz": -540
    },
    "id": "P-xqJFyqFLwL",
    "outputId": "226956bc-5117-45ef-9dd3-5c94962fc046"
   },
   "outputs": [
    {
     "data": {
      "text/plain": [
       "array([4, 6])"
      ]
     },
     "execution_count": 16,
     "metadata": {
      "tags": []
     },
     "output_type": "execute_result"
    }
   ],
   "source": [
    "np.sum(a, axis=0)"
   ]
  },
  {
   "cell_type": "markdown",
   "metadata": {
    "colab_type": "text",
    "id": "G45nQvXsFSMG"
   },
   "source": [
    "Axis 1 방향(→)"
   ]
  },
  {
   "cell_type": "code",
   "execution_count": 17,
   "metadata": {
    "colab": {
     "base_uri": "https://localhost:8080/",
     "height": 35
    },
    "colab_type": "code",
    "executionInfo": {
     "elapsed": 1537,
     "status": "ok",
     "timestamp": 1599714839307,
     "user": {
      "displayName": "함윤성",
      "photoUrl": "",
      "userId": "14807511260693798205"
     },
     "user_tz": -540
    },
    "id": "5d7yoPhSFLG2",
    "outputId": "cdf3661b-cde2-41c5-f419-e7cb2f354b7c"
   },
   "outputs": [
    {
     "data": {
      "text/plain": [
       "array([1.5, 3.5])"
      ]
     },
     "execution_count": 17,
     "metadata": {
      "tags": []
     },
     "output_type": "execute_result"
    }
   ],
   "source": [
    "np.mean(a, axis=1)"
   ]
  },
  {
   "cell_type": "code",
   "execution_count": 18,
   "metadata": {
    "colab": {
     "base_uri": "https://localhost:8080/",
     "height": 35
    },
    "colab_type": "code",
    "executionInfo": {
     "elapsed": 1516,
     "status": "ok",
     "timestamp": 1599714839307,
     "user": {
      "displayName": "함윤성",
      "photoUrl": "",
      "userId": "14807511260693798205"
     },
     "user_tz": -540
    },
    "id": "PY__l8WyFbL8",
    "outputId": "845fd7df-4817-4273-93d0-dce43346edcd"
   },
   "outputs": [
    {
     "data": {
      "text/plain": [
       "array([3, 7])"
      ]
     },
     "execution_count": 18,
     "metadata": {
      "tags": []
     },
     "output_type": "execute_result"
    }
   ],
   "source": [
    "np.sum(a, axis=1)"
   ]
  },
  {
   "cell_type": "markdown",
   "metadata": {
    "colab_type": "text",
    "id": "gwxz5dJfHBG1"
   },
   "source": [
    "**Broadcast**\n",
    "\n",
    "넘파이에서 형상이 다른 배열을 계산하기 위해서 지원하는 기능 (without explicit for-loop)"
   ]
  },
  {
   "cell_type": "code",
   "execution_count": 19,
   "metadata": {
    "colab": {
     "base_uri": "https://localhost:8080/",
     "height": 71
    },
    "colab_type": "code",
    "executionInfo": {
     "elapsed": 1485,
     "status": "ok",
     "timestamp": 1599714839308,
     "user": {
      "displayName": "함윤성",
      "photoUrl": "",
      "userId": "14807511260693798205"
     },
     "user_tz": -540
    },
    "id": "MSKFh1wjG9IG",
    "outputId": "989bda9b-aab3-4426-e762-6380dc185c65"
   },
   "outputs": [
    {
     "name": "stdout",
     "output_type": "stream",
     "text": [
      "[[ 56.    0.    4.   68. ]\n",
      " [  1.2 104.   52.    8. ]\n",
      " [  1.8 135.   99.    0.9]]\n"
     ]
    }
   ],
   "source": [
    "A = np.array([[56.0, 0.0, 4.0, 68.0],\n",
    "              [1.2, 104.0, 52.0, 8.0],\n",
    "              [1.8, 135.0, 99.0, 0.9]])\n",
    "print(A)"
   ]
  },
  {
   "cell_type": "code",
   "execution_count": 20,
   "metadata": {
    "colab": {
     "base_uri": "https://localhost:8080/",
     "height": 35
    },
    "colab_type": "code",
    "executionInfo": {
     "elapsed": 1461,
     "status": "ok",
     "timestamp": 1599714839308,
     "user": {
      "displayName": "함윤성",
      "photoUrl": "",
      "userId": "14807511260693798205"
     },
     "user_tz": -540
    },
    "id": "5U7laHcaG9sC",
    "outputId": "84264ec5-0128-4783-c94f-c1a5aec28deb"
   },
   "outputs": [
    {
     "name": "stdout",
     "output_type": "stream",
     "text": [
      "[ 59.  239.  155.   76.9]\n"
     ]
    }
   ],
   "source": [
    "cal = A.sum(axis=0)\n",
    "print(cal)"
   ]
  },
  {
   "cell_type": "code",
   "execution_count": 21,
   "metadata": {
    "colab": {
     "base_uri": "https://localhost:8080/",
     "height": 71
    },
    "colab_type": "code",
    "executionInfo": {
     "elapsed": 1431,
     "status": "ok",
     "timestamp": 1599714839309,
     "user": {
      "displayName": "함윤성",
      "photoUrl": "",
      "userId": "14807511260693798205"
     },
     "user_tz": -540
    },
    "id": "6vMJ_awtG9iA",
    "outputId": "cb3f1ee1-c7b3-4a2a-e3a8-e47b91ba63de"
   },
   "outputs": [
    {
     "name": "stdout",
     "output_type": "stream",
     "text": [
      "[[94.91525424  0.          2.58064516 88.42652796]\n",
      " [ 2.03389831 43.51464435 33.5483871  10.40312094]\n",
      " [ 3.05084746 56.48535565 63.87096774  1.17035111]]\n"
     ]
    }
   ],
   "source": [
    "percentage = 100*A / cal\n",
    "print(percentage)"
   ]
  },
  {
   "cell_type": "markdown",
   "metadata": {
    "colab_type": "text",
    "id": "WpLFkvLwH1mc"
   },
   "source": [
    "**Stack**"
   ]
  },
  {
   "cell_type": "code",
   "execution_count": 22,
   "metadata": {
    "colab": {},
    "colab_type": "code",
    "executionInfo": {
     "elapsed": 1425,
     "status": "ok",
     "timestamp": 1599714839309,
     "user": {
      "displayName": "함윤성",
      "photoUrl": "",
      "userId": "14807511260693798205"
     },
     "user_tz": -540
    },
    "id": "3sYZ2NiyG9AQ"
   },
   "outputs": [],
   "source": [
    "a = np.array([1, 2, 3, 4])\n",
    "b = np.array([5, 6, 7, 8])"
   ]
  },
  {
   "cell_type": "markdown",
   "metadata": {
    "colab_type": "text",
    "id": "ucjGiZPdIAlO"
   },
   "source": [
    "\n",
    "\n",
    "*  세로로 쌓기\n"
   ]
  },
  {
   "cell_type": "code",
   "execution_count": 23,
   "metadata": {
    "colab": {
     "base_uri": "https://localhost:8080/",
     "height": 71
    },
    "colab_type": "code",
    "executionInfo": {
     "elapsed": 1401,
     "status": "ok",
     "timestamp": 1599714839310,
     "user": {
      "displayName": "함윤성",
      "photoUrl": "",
      "userId": "14807511260693798205"
     },
     "user_tz": -540
    },
    "id": "UJiqa1R-IE8x",
    "outputId": "ef4a9a6e-d258-4e17-cf53-870fbf5ebb7e"
   },
   "outputs": [
    {
     "name": "stdout",
     "output_type": "stream",
     "text": [
      "[[1 2 3 4]\n",
      " [5 6 7 8]]\n",
      "(2, 4)\n"
     ]
    }
   ],
   "source": [
    "c = np.vstack((a,b))\n",
    "print(c)\n",
    "print(c.shape)"
   ]
  },
  {
   "cell_type": "markdown",
   "metadata": {
    "colab_type": "text",
    "id": "utrBki7aIPIc"
   },
   "source": [
    "* 가로로 쌓기"
   ]
  },
  {
   "cell_type": "code",
   "execution_count": 24,
   "metadata": {
    "colab": {
     "base_uri": "https://localhost:8080/",
     "height": 35
    },
    "colab_type": "code",
    "executionInfo": {
     "elapsed": 1387,
     "status": "ok",
     "timestamp": 1599714839311,
     "user": {
      "displayName": "함윤성",
      "photoUrl": "",
      "userId": "14807511260693798205"
     },
     "user_tz": -540
    },
    "id": "BXxsDeOfIRtA",
    "outputId": "e9147aeb-751b-4603-9cfc-ae2cf563716a"
   },
   "outputs": [
    {
     "name": "stdout",
     "output_type": "stream",
     "text": [
      "[1 2 3 4 5 6 7 8]\n"
     ]
    }
   ],
   "source": [
    "d = np.hstack((a,b))\n",
    "print(d)"
   ]
  },
  {
   "cell_type": "markdown",
   "metadata": {
    "colab_type": "text",
    "id": "5lfNxGx1IdTy"
   },
   "source": [
    "**형변환**"
   ]
  },
  {
   "cell_type": "code",
   "execution_count": 25,
   "metadata": {
    "colab": {
     "base_uri": "https://localhost:8080/",
     "height": 35
    },
    "colab_type": "code",
    "executionInfo": {
     "elapsed": 1369,
     "status": "ok",
     "timestamp": 1599714839311,
     "user": {
      "displayName": "함윤성",
      "photoUrl": "",
      "userId": "14807511260693798205"
     },
     "user_tz": -540
    },
    "id": "KI9pE4DdIe0S",
    "outputId": "7c9a7b10-12fc-4d33-a4d1-b32823a3e2c7"
   },
   "outputs": [
    {
     "name": "stdout",
     "output_type": "stream",
     "text": [
      "[False  True  True]\n"
     ]
    }
   ],
   "source": [
    "x = np.array([-2.0, 1.2, 3.7])\n",
    "y = x > 0\n",
    "print(y)"
   ]
  },
  {
   "cell_type": "code",
   "execution_count": 26,
   "metadata": {
    "colab": {
     "base_uri": "https://localhost:8080/",
     "height": 35
    },
    "colab_type": "code",
    "executionInfo": {
     "elapsed": 1668,
     "status": "ok",
     "timestamp": 1599714839629,
     "user": {
      "displayName": "함윤성",
      "photoUrl": "",
      "userId": "14807511260693798205"
     },
     "user_tz": -540
    },
    "id": "eMEgCmG_IfTD",
    "outputId": "839b6bf1-7396-43d9-bbd6-4b2928bf460a"
   },
   "outputs": [
    {
     "name": "stdout",
     "output_type": "stream",
     "text": [
      "[0 1 1]\n"
     ]
    }
   ],
   "source": [
    "y = y.astype(np.int)\n",
    "print(y)"
   ]
  },
  {
   "cell_type": "markdown",
   "metadata": {
    "colab_type": "text",
    "id": "lF7WnUNEItuN"
   },
   "source": [
    "**Noise**"
   ]
  },
  {
   "cell_type": "code",
   "execution_count": 27,
   "metadata": {
    "colab": {},
    "colab_type": "code",
    "executionInfo": {
     "elapsed": 1664,
     "status": "ok",
     "timestamp": 1599714839630,
     "user": {
      "displayName": "함윤성",
      "photoUrl": "",
      "userId": "14807511260693798205"
     },
     "user_tz": -540
    },
    "id": "6lNsjtqXIvmP"
   },
   "outputs": [],
   "source": [
    "x = np.arange(0, 6, 0.1)\n",
    "y = np.sin(x)"
   ]
  },
  {
   "cell_type": "code",
   "execution_count": 28,
   "metadata": {
    "colab": {
     "base_uri": "https://localhost:8080/",
     "height": 233
    },
    "colab_type": "code",
    "executionInfo": {
     "elapsed": 1648,
     "status": "ok",
     "timestamp": 1599714839630,
     "user": {
      "displayName": "함윤성",
      "photoUrl": "",
      "userId": "14807511260693798205"
     },
     "user_tz": -540
    },
    "id": "QjVJx3InIxsA",
    "outputId": "c037cdca-9656-458b-974e-77c7928a5260"
   },
   "outputs": [
    {
     "data": {
      "text/plain": [
       "array([ 0.        ,  0.09983342,  0.19866933,  0.29552021,  0.38941834,\n",
       "        0.47942554,  0.56464247,  0.64421769,  0.71735609,  0.78332691,\n",
       "        0.84147098,  0.89120736,  0.93203909,  0.96355819,  0.98544973,\n",
       "        0.99749499,  0.9995736 ,  0.99166481,  0.97384763,  0.94630009,\n",
       "        0.90929743,  0.86320937,  0.8084964 ,  0.74570521,  0.67546318,\n",
       "        0.59847214,  0.51550137,  0.42737988,  0.33498815,  0.23924933,\n",
       "        0.14112001,  0.04158066, -0.05837414, -0.15774569, -0.2555411 ,\n",
       "       -0.35078323, -0.44252044, -0.52983614, -0.61185789, -0.68776616,\n",
       "       -0.7568025 , -0.81827711, -0.87157577, -0.91616594, -0.95160207,\n",
       "       -0.97753012, -0.993691  , -0.99992326, -0.99616461, -0.98245261,\n",
       "       -0.95892427, -0.92581468, -0.88345466, -0.83226744, -0.77276449,\n",
       "       -0.70554033, -0.63126664, -0.55068554, -0.46460218, -0.37387666])"
      ]
     },
     "execution_count": 28,
     "metadata": {
      "tags": []
     },
     "output_type": "execute_result"
    }
   ],
   "source": [
    "y"
   ]
  },
  {
   "cell_type": "code",
   "execution_count": 29,
   "metadata": {
    "colab": {
     "base_uri": "https://localhost:8080/",
     "height": 35
    },
    "colab_type": "code",
    "executionInfo": {
     "elapsed": 1631,
     "status": "ok",
     "timestamp": 1599714839631,
     "user": {
      "displayName": "함윤성",
      "photoUrl": "",
      "userId": "14807511260693798205"
     },
     "user_tz": -540
    },
    "id": "l0q7BmQfIxfQ",
    "outputId": "2e22a1ce-9ebe-484c-f2a3-7b37fa610ca5"
   },
   "outputs": [
    {
     "name": "stdout",
     "output_type": "stream",
     "text": [
      "60\n"
     ]
    }
   ],
   "source": [
    "signal_length = y.shape[0]\n",
    "print(signal_length)"
   ]
  },
  {
   "cell_type": "markdown",
   "metadata": {
    "colab_type": "text",
    "id": "hI6VQy5vJANv"
   },
   "source": [
    "* 참고  np.random.normal : random samples from a normal (Gaussian) distrubution"
   ]
  },
  {
   "cell_type": "code",
   "execution_count": 30,
   "metadata": {
    "colab": {},
    "colab_type": "code",
    "executionInfo": {
     "elapsed": 1625,
     "status": "ok",
     "timestamp": 1599714839632,
     "user": {
      "displayName": "함윤성",
      "photoUrl": "",
      "userId": "14807511260693798205"
     },
     "user_tz": -540
    },
    "id": "ZdT4aVmRJLr9"
   },
   "outputs": [],
   "source": [
    "noise = np.random.normal(0, 1, signal_length)\n",
    "y2 = y + 0.2* noise"
   ]
  },
  {
   "cell_type": "code",
   "execution_count": 31,
   "metadata": {
    "colab": {
     "base_uri": "https://localhost:8080/",
     "height": 283
    },
    "colab_type": "code",
    "executionInfo": {
     "elapsed": 1608,
     "status": "ok",
     "timestamp": 1599714839632,
     "user": {
      "displayName": "함윤성",
      "photoUrl": "",
      "userId": "14807511260693798205"
     },
     "user_tz": -540
    },
    "id": "bPoPnWnyJDeE",
    "outputId": "fe4f6386-b287-4b88-8123-1ea50ccc5778"
   },
   "outputs": [
    {
     "data": {
      "text/plain": [
       "[<matplotlib.lines.Line2D at 0x7f6976fc8898>]"
      ]
     },
     "execution_count": 31,
     "metadata": {
      "tags": []
     },
     "output_type": "execute_result"
    },
    {
     "data": {
      "image/png": "[encoded data removed]",
      "text/plain": [
       "<Figure size 432x288 with 1 Axes>"
      ]
     },
     "metadata": {
      "needs_background": "light",
      "tags": []
     },
     "output_type": "display_data"
    }
   ],
   "source": [
    "plt.plot(x, y)\n",
    "plt.plot(x, y2)"
   ]
  },
  {
   "cell_type": "markdown",
   "metadata": {
    "colab_type": "text",
    "id": "65_JfTM5JWiE"
   },
   "source": [
    "**배열 형태 변환**"
   ]
  },
  {
   "cell_type": "code",
   "execution_count": 32,
   "metadata": {
    "colab": {
     "base_uri": "https://localhost:8080/",
     "height": 287
    },
    "colab_type": "code",
    "executionInfo": {
     "elapsed": 1595,
     "status": "ok",
     "timestamp": 1599714839633,
     "user": {
      "displayName": "함윤성",
      "photoUrl": "",
      "userId": "14807511260693798205"
     },
     "user_tz": -540
    },
    "id": "WhjjAF6IJYi2",
    "outputId": "9104c447-9949-4f39-fb32-5ce72ece3a55"
   },
   "outputs": [
    {
     "name": "stdout",
     "output_type": "stream",
     "text": [
      "[[[0.61647574 0.65786636]\n",
      "  [0.75689423 0.24961851]\n",
      "  [0.96135811 0.37427864]]\n",
      "\n",
      " [[0.33431706 0.83703706]\n",
      "  [0.69912492 0.07207612]\n",
      "  [0.70784787 0.47212701]]\n",
      "\n",
      " [[0.26849992 0.89510062]\n",
      "  [0.06822307 0.95974612]\n",
      "  [0.81999115 0.74031409]]\n",
      "\n",
      " [[0.50673038 0.55068605]\n",
      "  [0.01260496 0.98946828]\n",
      "  [0.87758478 0.8195421 ]]]\n"
     ]
    }
   ],
   "source": [
    "A = np.random.rand(4, 3, 2)\n",
    "print(A)"
   ]
  },
  {
   "cell_type": "code",
   "execution_count": 33,
   "metadata": {
    "colab": {
     "base_uri": "https://localhost:8080/",
     "height": 233
    },
    "colab_type": "code",
    "executionInfo": {
     "elapsed": 2009,
     "status": "ok",
     "timestamp": 1599714840059,
     "user": {
      "displayName": "함윤성",
      "photoUrl": "",
      "userId": "14807511260693798205"
     },
     "user_tz": -540
    },
    "id": "07YHGTvrJYuy",
    "outputId": "ab0057cb-1610-4928-aacd-fe6a67a12f26"
   },
   "outputs": [
    {
     "name": "stdout",
     "output_type": "stream",
     "text": [
      "[[0.61647574 0.65786636]\n",
      " [0.75689423 0.24961851]\n",
      " [0.96135811 0.37427864]\n",
      " [0.33431706 0.83703706]\n",
      " [0.69912492 0.07207612]\n",
      " [0.70784787 0.47212701]\n",
      " [0.26849992 0.89510062]\n",
      " [0.06822307 0.95974612]\n",
      " [0.81999115 0.74031409]\n",
      " [0.50673038 0.55068605]\n",
      " [0.01260496 0.98946828]\n",
      " [0.87758478 0.8195421 ]]\n"
     ]
    }
   ],
   "source": [
    "A = A.reshape(12, 2)\n",
    "print(A)"
   ]
  },
  {
   "cell_type": "markdown",
   "metadata": {
    "colab_type": "text",
    "id": "GPa_t4AwJkPo"
   },
   "source": [
    "**1차원 변환 ravel() vs.reshape(0 vs.flatten()**\n",
    "* 다차원 배열을 1차원으로 바꾸는 것"
   ]
  },
  {
   "cell_type": "code",
   "execution_count": 34,
   "metadata": {
    "colab": {
     "base_uri": "https://localhost:8080/",
     "height": 35
    },
    "colab_type": "code",
    "executionInfo": {
     "elapsed": 1998,
     "status": "ok",
     "timestamp": 1599714840060,
     "user": {
      "displayName": "함윤성",
      "photoUrl": "",
      "userId": "14807511260693798205"
     },
     "user_tz": -540
    },
    "id": "6njdA87zJvj0",
    "outputId": "efa0de7b-143c-48ca-d9c2-3f40ed582c10"
   },
   "outputs": [
    {
     "name": "stdout",
     "output_type": "stream",
     "text": [
      "(24,)\n"
     ]
    }
   ],
   "source": [
    "B = A.ravel()\n",
    "print(B.shape)"
   ]
  },
  {
   "cell_type": "code",
   "execution_count": 35,
   "metadata": {
    "colab": {
     "base_uri": "https://localhost:8080/",
     "height": 35
    },
    "colab_type": "code",
    "executionInfo": {
     "elapsed": 1990,
     "status": "ok",
     "timestamp": 1599714840061,
     "user": {
      "displayName": "함윤성",
      "photoUrl": "",
      "userId": "14807511260693798205"
     },
     "user_tz": -540
    },
    "id": "nKY28N3CJwc7",
    "outputId": "779d12ec-99fb-40a6-fabc-f92e49c15c62"
   },
   "outputs": [
    {
     "name": "stdout",
     "output_type": "stream",
     "text": [
      "(24,)\n"
     ]
    }
   ],
   "source": [
    "C = A.flatten()\n",
    "print(C.shape)"
   ]
  },
  {
   "cell_type": "markdown",
   "metadata": {
    "colab_type": "text",
    "id": "Aq29l7E6J7kV"
   },
   "source": [
    "reshape을 이용한 구현"
   ]
  },
  {
   "cell_type": "code",
   "execution_count": 36,
   "metadata": {
    "colab": {
     "base_uri": "https://localhost:8080/",
     "height": 35
    },
    "colab_type": "code",
    "executionInfo": {
     "elapsed": 1977,
     "status": "ok",
     "timestamp": 1599714840061,
     "user": {
      "displayName": "함윤성",
      "photoUrl": "",
      "userId": "14807511260693798205"
     },
     "user_tz": -540
    },
    "id": "buG-HAWpJ9t1",
    "outputId": "1980f9a6-581e-4500-dddf-8a5273d9bf89"
   },
   "outputs": [
    {
     "name": "stdout",
     "output_type": "stream",
     "text": [
      "(24,)\n"
     ]
    }
   ],
   "source": [
    "D = A.reshape(-1)\n",
    "print(D.shape)"
   ]
  },
  {
   "cell_type": "markdown",
   "metadata": {
    "colab_type": "text",
    "id": "aGXSPuNBLkpQ"
   },
   "source": [
    "**Random**\n",
    "\n",
    "\n",
    "np.random.choice"
   ]
  },
  {
   "cell_type": "code",
   "execution_count": 49,
   "metadata": {
    "colab": {},
    "colab_type": "code",
    "executionInfo": {
     "elapsed": 734,
     "status": "ok",
     "timestamp": 1599714847293,
     "user": {
      "displayName": "함윤성",
      "photoUrl": "",
      "userId": "14807511260693798205"
     },
     "user_tz": -540
    },
    "id": "bivWrhPRMRYK"
   },
   "outputs": [],
   "source": [
    "np.random.seed(0)"
   ]
  },
  {
   "cell_type": "code",
   "execution_count": 50,
   "metadata": {
    "colab": {},
    "colab_type": "code",
    "executionInfo": {
     "elapsed": 732,
     "status": "ok",
     "timestamp": 1599714848521,
     "user": {
      "displayName": "함윤성",
      "photoUrl": "",
      "userId": "14807511260693798205"
     },
     "user_tz": -540
    },
    "id": "YDFvi5twbtVU"
   },
   "outputs": [],
   "source": [
    "p = np.array([0.1, 0.0, 0.7, 0.2])"
   ]
  },
  {
   "cell_type": "code",
   "execution_count": 51,
   "metadata": {
    "colab": {
     "base_uri": "https://localhost:8080/",
     "height": 35
    },
    "colab_type": "code",
    "executionInfo": {
     "elapsed": 743,
     "status": "ok",
     "timestamp": 1599714896532,
     "user": {
      "displayName": "함윤성",
      "photoUrl": "",
      "userId": "14807511260693798205"
     },
     "user_tz": -540
    },
    "id": "cA_Z_3fxb9A0",
    "outputId": "a851a564-8223-473a-fd05-71c129b0b49c"
   },
   "outputs": [
    {
     "data": {
      "text/plain": [
       "1.0"
      ]
     },
     "execution_count": 51,
     "metadata": {
      "tags": []
     },
     "output_type": "execute_result"
    }
   ],
   "source": [
    "np.sum(p)"
   ]
  },
  {
   "cell_type": "code",
   "execution_count": 39,
   "metadata": {
    "colab": {
     "base_uri": "https://localhost:8080/",
     "height": 197
    },
    "colab_type": "code",
    "executionInfo": {
     "elapsed": 1942,
     "status": "ok",
     "timestamp": 1599714840062,
     "user": {
      "displayName": "함윤성",
      "photoUrl": "",
      "userId": "14807511260693798205"
     },
     "user_tz": -540
    },
    "id": "yGr268DTMgrV",
    "outputId": "bc1870a9-a40c-442c-d22a-f7e23f5f9d2f"
   },
   "outputs": [
    {
     "name": "stdout",
     "output_type": "stream",
     "text": [
      "0 2\n",
      "1 2\n",
      "2 2\n",
      "3 2\n",
      "4 2\n",
      "5 2\n",
      "6 2\n",
      "7 3\n",
      "8 3\n",
      "9 2\n"
     ]
    }
   ],
   "source": [
    "for i in range(10):\n",
    "  index = np.random.choice([0, 1, 2, 3], p = p.ravel())\n",
    "  print(i, index)"
   ]
  },
  {
   "cell_type": "markdown",
   "metadata": {
    "colab_type": "text",
    "id": "MzPBYjhbMy6I"
   },
   "source": [
    "**This means that you will pick the index according to the distribution:**\n",
    "**𝑃(𝑖𝑛𝑑𝑒𝑥 = 0) = 0.1, 𝑃(𝑖𝑛𝑑𝑒𝑥 = 1) = 0.0, 𝑃(𝑖𝑛𝑑𝑒𝑥 = 2) = 0.7, 𝑃(𝑖𝑛𝑑𝑒𝑥 = 3) = 0.2**"
   ]
  },
  {
   "cell_type": "code",
   "execution_count": 40,
   "metadata": {
    "colab": {},
    "colab_type": "code",
    "executionInfo": {
     "elapsed": 1940,
     "status": "ok",
     "timestamp": 1599714840063,
     "user": {
      "displayName": "함윤성",
      "photoUrl": "",
      "userId": "14807511260693798205"
     },
     "user_tz": -540
    },
    "id": "3tJ5CtzmNEr-"
   },
   "outputs": [],
   "source": [
    "v = [0,0,0,0]\n",
    "ntest = 1000\n",
    "for i in range(ntest):\n",
    "  idx = np.random.choice([0, 1, 2, 3], p = p.ravel())\n",
    "  v[idx] += 1"
   ]
  },
  {
   "cell_type": "markdown",
   "metadata": {
    "colab_type": "text",
    "id": "iKjCK0CrM-ly"
   },
   "source": [
    "np.random.permutation"
   ]
  },
  {
   "cell_type": "code",
   "execution_count": 41,
   "metadata": {
    "colab": {
     "base_uri": "https://localhost:8080/",
     "height": 35
    },
    "colab_type": "code",
    "executionInfo": {
     "elapsed": 1931,
     "status": "ok",
     "timestamp": 1599714840063,
     "user": {
      "displayName": "함윤성",
      "photoUrl": "",
      "userId": "14807511260693798205"
     },
     "user_tz": -540
    },
    "id": "vFqpecPkNa4V",
    "outputId": "b157fba3-7a09-4597-cd77-ce48f949ec23"
   },
   "outputs": [
    {
     "name": "stdout",
     "output_type": "stream",
     "text": [
      "[2 1 4 0 3]\n"
     ]
    }
   ],
   "source": [
    "m1 = np.random.permutation(5)\n",
    "print(m1)"
   ]
  },
  {
   "cell_type": "markdown",
   "metadata": {
    "colab_type": "text",
    "id": "Uf9iTV5ZNaKF"
   },
   "source": [
    "* array shuffle하기 (1차원)"
   ]
  },
  {
   "cell_type": "code",
   "execution_count": 42,
   "metadata": {
    "colab": {},
    "colab_type": "code",
    "executionInfo": {
     "elapsed": 1930,
     "status": "ok",
     "timestamp": 1599714840064,
     "user": {
      "displayName": "함윤성",
      "photoUrl": "",
      "userId": "14807511260693798205"
     },
     "user_tz": -540
    },
    "id": "_5Ny47dYNYou"
   },
   "outputs": [],
   "source": [
    "X = np.array([10,20,30,40,50])\n",
    "shuffled_X = X[m1]"
   ]
  },
  {
   "cell_type": "code",
   "execution_count": 43,
   "metadata": {
    "colab": {
     "base_uri": "https://localhost:8080/",
     "height": 53
    },
    "colab_type": "code",
    "executionInfo": {
     "elapsed": 1919,
     "status": "ok",
     "timestamp": 1599714840064,
     "user": {
      "displayName": "함윤성",
      "photoUrl": "",
      "userId": "14807511260693798205"
     },
     "user_tz": -540
    },
    "id": "nW_c9KqmNbtd",
    "outputId": "9ad48f18-8f46-48b0-e83d-0b5f0350d949"
   },
   "outputs": [
    {
     "name": "stdout",
     "output_type": "stream",
     "text": [
      "[10 20 30 40 50]\n",
      "[30 20 50 10 40]\n"
     ]
    }
   ],
   "source": [
    "print(X)\n",
    "print(shuffled_X)"
   ]
  },
  {
   "cell_type": "markdown",
   "metadata": {
    "colab_type": "text",
    "id": "ewqpvi66NcEb"
   },
   "source": [
    "* array shuffle하기 (2차원)"
   ]
  },
  {
   "cell_type": "code",
   "execution_count": 44,
   "metadata": {
    "colab": {},
    "colab_type": "code",
    "executionInfo": {
     "elapsed": 1917,
     "status": "ok",
     "timestamp": 1599714840065,
     "user": {
      "displayName": "함윤성",
      "photoUrl": "",
      "userId": "14807511260693798205"
     },
     "user_tz": -540
    },
    "id": "EPepV6NCN6H4"
   },
   "outputs": [],
   "source": [
    "x1 = [2, 4, 8, 10, 20]\n",
    "x2 = [0.2, 0.4, -0.8, 1.0, -2.0]\n",
    "X = np.transpose(np.vstack((x1, x2)))"
   ]
  },
  {
   "cell_type": "code",
   "execution_count": 45,
   "metadata": {
    "colab": {
     "base_uri": "https://localhost:8080/",
     "height": 125
    },
    "colab_type": "code",
    "executionInfo": {
     "elapsed": 1905,
     "status": "ok",
     "timestamp": 1599714840065,
     "user": {
      "displayName": "함윤성",
      "photoUrl": "",
      "userId": "14807511260693798205"
     },
     "user_tz": -540
    },
    "id": "nABp1lPLN6t7",
    "outputId": "504c379f-534c-4240-f3fc-66a94da457e0"
   },
   "outputs": [
    {
     "name": "stdout",
     "output_type": "stream",
     "text": [
      "[[ 2.   0.2]\n",
      " [ 4.   0.4]\n",
      " [ 8.  -0.8]\n",
      " [10.   1. ]\n",
      " [20.  -2. ]]\n",
      "(5, 2)\n"
     ]
    }
   ],
   "source": [
    "print(X)\n",
    "print(X.shape)"
   ]
  },
  {
   "cell_type": "code",
   "execution_count": 46,
   "metadata": {
    "colab": {},
    "colab_type": "code",
    "executionInfo": {
     "elapsed": 1896,
     "status": "ok",
     "timestamp": 1599714840066,
     "user": {
      "displayName": "함윤성",
      "photoUrl": "",
      "userId": "14807511260693798205"
     },
     "user_tz": -540
    },
    "id": "YJFRA4fWN7Fs"
   },
   "outputs": [],
   "source": [
    "permutation = np.random.permutation(5)"
   ]
  },
  {
   "cell_type": "code",
   "execution_count": 47,
   "metadata": {
    "colab": {},
    "colab_type": "code",
    "executionInfo": {
     "elapsed": 1884,
     "status": "ok",
     "timestamp": 1599714840066,
     "user": {
      "displayName": "함윤성",
      "photoUrl": "",
      "userId": "14807511260693798205"
     },
     "user_tz": -540
    },
    "id": "zKYS1frIN6lN"
   },
   "outputs": [],
   "source": [
    "X_shuffle= X[permutation]"
   ]
  },
  {
   "cell_type": "code",
   "execution_count": 48,
   "metadata": {
    "colab": {
     "base_uri": "https://localhost:8080/",
     "height": 107
    },
    "colab_type": "code",
    "executionInfo": {
     "elapsed": 2390,
     "status": "ok",
     "timestamp": 1599714840586,
     "user": {
      "displayName": "함윤성",
      "photoUrl": "",
      "userId": "14807511260693798205"
     },
     "user_tz": -540
    },
    "id": "C23T7Dw4N56b",
    "outputId": "aabee4e1-1a8b-4cce-943f-1005dd7753ff"
   },
   "outputs": [
    {
     "name": "stdout",
     "output_type": "stream",
     "text": [
      "[[ 8.  -0.8]\n",
      " [10.   1. ]\n",
      " [20.  -2. ]\n",
      " [ 4.   0.4]\n",
      " [ 2.   0.2]]\n"
     ]
    }
   ],
   "source": [
    "print(X_shuffle)"
   ]
  }
 ],
 "metadata": {
  "colab": {
   "authorship_tag": "ABX9TyPDStDv5bNQHgU1n00avdoX",
   "collapsed_sections": [],
   "name": "03_hello_numpy_함윤성.ipynb",
   "provenance": []
  },
  "kernelspec": {
   "display_name": "Python 3",
   "name": "python3"
  }
 },
 "nbformat": 4,
 "nbformat_minor": 0
}
