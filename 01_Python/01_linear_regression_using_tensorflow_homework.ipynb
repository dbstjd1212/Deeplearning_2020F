{
 "cells": [
  {
   "cell_type": "markdown",
   "metadata": {
    "id": "J2k1A3TzlBKO"
   },
   "source": [
    "**라이브러리 Import 하기**"
   ]
  },
  {
   "cell_type": "code",
   "execution_count": null,
   "metadata": {
    "id": "PixenaSXit6h"
   },
   "outputs": [],
   "source": [
    "import tensorflow.compat.v1 as tf\n",
    "tf.disable_v2_behavior()\n",
    "\n",
    "import numpy as np\n",
    "import matplotlib.pyplot as plt"
   ]
  },
  {
   "cell_type": "markdown",
   "metadata": {
    "id": "5RW2H1jglI1C"
   },
   "source": [
    "**X and Y data (given)**"
   ]
  },
  {
   "cell_type": "code",
   "execution_count": null,
   "metadata": {
    "id": "EwWKNXxzjn7h"
   },
   "outputs": [],
   "source": [
    "x_train = [1, 2, 3, 4, 5]\n",
    "y_train = [3, 5, 7, 9, 11]\n",
    "\n",
    "signal_length = len(x_train)\n",
    "y_noise = np.random.normal(0, 1, signal_length)\n",
    "\n",
    "y_train = y_train + y_noise"
   ]
  },
  {
   "cell_type": "code",
   "execution_count": null,
   "metadata": {
    "colab": {
     "base_uri": "https://localhost:8080/",
     "height": 265
    },
    "executionInfo": {
     "elapsed": 1541,
     "status": "ok",
     "timestamp": 1601205657280,
     "user": {
      "displayName": "함윤성",
      "photoUrl": "",
      "userId": "14807511260693798205"
     },
     "user_tz": -540
    },
    "id": "T8F3GBRxkA9a",
    "outputId": "80f5d39a-d211-47da-8589-1709f3fc2469"
   },
   "outputs": [
    {
     "data": {
      "image/png": "[encoded data removed]",
      "text/plain": [
       "<Figure size 432x288 with 1 Axes>"
      ]
     },
     "metadata": {
      "needs_background": "light",
      "tags": []
     },
     "output_type": "display_data"
    }
   ],
   "source": [
    "plt.plot(x_train, y_train, '.-')\n",
    "plt.grid()"
   ]
  },
  {
   "cell_type": "code",
   "execution_count": null,
   "metadata": {
    "id": "2_yo-UJEP-YO"
   },
   "outputs": [],
   "source": [
    "x_train = [2, 3, 4, 5, 8]\n",
    "y_train = [1.1, 1.6, 2.1, 2.6, 4]\n",
    "\n",
    "signal_length = len(x_train)\n",
    "y_noise = np.random.normal(0, 1, signal_length)\n",
    "\n",
    "y_train = y_train + y_noise"
   ]
  },
  {
   "cell_type": "code",
   "execution_count": null,
   "metadata": {
    "colab": {
     "base_uri": "https://localhost:8080/",
     "height": 265
    },
    "executionInfo": {
     "elapsed": 1605,
     "status": "ok",
     "timestamp": 1601205658481,
     "user": {
      "displayName": "함윤성",
      "photoUrl": "",
      "userId": "14807511260693798205"
     },
     "user_tz": -540
    },
    "id": "bv5Cd-4qQKaf",
    "outputId": "9bd91870-54fe-4302-d501-096c1256223d"
   },
   "outputs": [
    {
     "data": {
      "image/png": "[encoded data removed]",
      "text/plain": [
       "<Figure size 432x288 with 1 Axes>"
      ]
     },
     "metadata": {
      "needs_background": "light",
      "tags": []
     },
     "output_type": "display_data"
    }
   ],
   "source": [
    "plt.plot(x_train, y_train, '.-')\n",
    "plt.grid()"
   ]
  },
  {
   "cell_type": "markdown",
   "metadata": {
    "id": "goJbHNz8nfbc"
   },
   "source": [
    "**Initialization**"
   ]
  },
  {
   "cell_type": "code",
   "execution_count": null,
   "metadata": {
    "id": "jh2Mu9TDmcHF"
   },
   "outputs": [],
   "source": [
    "useRandom = False"
   ]
  },
  {
   "cell_type": "code",
   "execution_count": null,
   "metadata": {
    "id": "aWPkBZr6kMDa"
   },
   "outputs": [],
   "source": [
    "if useRandom:\n",
    "    W = tf.Variable(tf.random_normal([1]), name='weight')\n",
    "    b = tf.Variable(tf.random_normal([1]), name='bias')\n",
    "else:\n",
    "    w0 = 10.0;\n",
    "    b0 = 9.0;\n",
    "\n",
    "    W = tf.Variable(w0*tf.ones([1]), name='weight')\n",
    "    b = tf.Variable(b0*tf.ones([1]), name='bias')"
   ]
  },
  {
   "cell_type": "markdown",
   "metadata": {
    "id": "5A2bpW6UndSc"
   },
   "source": [
    "**Our hypothesis**\n",
    "$$ H(x) = Wx + b $$"
   ]
  },
  {
   "cell_type": "code",
   "execution_count": null,
   "metadata": {
    "id": "QQx3fYLLmALu"
   },
   "outputs": [],
   "source": [
    "hypothesis = x_train + W + b"
   ]
  },
  {
   "cell_type": "markdown",
   "metadata": {
    "id": "_lLEFFCVoCcT"
   },
   "source": [
    "**cost/loss function 정의하기**\n",
    "\n",
    "\n",
    "*   loss of one training example :\n",
    "$$loss = \\mathcal{L}(\\hat{y}, y) = (\\hat y^{(i)} - y^{(i)})^2$$\n"
   ]
  },
  {
   "cell_type": "code",
   "execution_count": null,
   "metadata": {
    "id": "IFqrprNWn1dZ"
   },
   "outputs": [],
   "source": [
    "loss = tf.reduce_mean(tf.square(hypothesis - y_train))"
   ]
  },
  {
   "cell_type": "markdown",
   "metadata": {
    "id": "MA2VEvk-ohdU"
   },
   "source": [
    "**Optimizer**"
   ]
  },
  {
   "cell_type": "code",
   "execution_count": null,
   "metadata": {
    "id": "5GQH6FrtobQH"
   },
   "outputs": [],
   "source": [
    "optimizer = tf.train.GradientDescentOptimizer(learning_rate=0.01)\n",
    "train = optimizer.minimize(loss)"
   ]
  },
  {
   "cell_type": "markdown",
   "metadata": {
    "id": "d6wIE1vJoiEi"
   },
   "source": [
    "**Launch the graph in a session**"
   ]
  },
  {
   "cell_type": "code",
   "execution_count": null,
   "metadata": {
    "id": "83xdF0gpoiat"
   },
   "outputs": [],
   "source": [
    "sess = tf.Session()"
   ]
  },
  {
   "cell_type": "markdown",
   "metadata": {
    "id": "uyXNV3th95c6"
   },
   "source": [
    "**Initializes global variables in the graph.**"
   ]
  },
  {
   "cell_type": "code",
   "execution_count": null,
   "metadata": {
    "id": "vRpye-cTpJOg"
   },
   "outputs": [],
   "source": [
    "sess.run(tf.global_variables_initializer())"
   ]
  },
  {
   "cell_type": "code",
   "execution_count": null,
   "metadata": {
    "colab": {
     "base_uri": "https://localhost:8080/",
     "height": 395
    },
    "executionInfo": {
     "elapsed": 1303,
     "status": "ok",
     "timestamp": 1601205560739,
     "user": {
      "displayName": "함윤성",
      "photoUrl": "",
      "userId": "14807511260693798205"
     },
     "user_tz": -540
    },
    "id": "eWdFzZmO-A_6",
    "outputId": "ff6a3ffe-3ed7-4ad7-f5e1-b128ae5f8658"
   },
   "outputs": [
    {
     "name": "stdout",
     "output_type": "stream",
     "text": [
      "0 \t 194.60141 \t 9.710324 \t 8.710324\n",
      "50 \t 4.529094 \t 3.6610925 \t 2.661091\n",
      "100 \t 1.3225114 \t 2.875383 \t 1.8753811\n",
      "150 \t 1.2684156 \t 2.7733307 \t 1.7733287\n",
      "200 \t 1.2675029 \t 2.760076 \t 1.7600733\n",
      "250 \t 1.2674878 \t 2.7583535 \t 1.7583514\n",
      "300 \t 1.2674873 \t 2.75813 \t 1.7581279\n",
      "350 \t 1.2674873 \t 2.7581012 \t 1.7580988\n",
      "400 \t 1.2674873 \t 2.7580993 \t 1.7580953\n",
      "450 \t 1.2674873 \t 2.7580993 \t 1.7580953\n",
      "500 \t 1.2674873 \t 2.7580993 \t 1.7580953\n",
      "550 \t 1.2674873 \t 2.7580993 \t 1.7580953\n",
      "600 \t 1.2674873 \t 2.7580993 \t 1.7580953\n",
      "650 \t 1.2674873 \t 2.7580993 \t 1.7580953\n",
      "700 \t 1.2674873 \t 2.7580993 \t 1.7580953\n",
      "750 \t 1.2674873 \t 2.7580993 \t 1.7580953\n",
      "800 \t 1.2674873 \t 2.7580993 \t 1.7580953\n",
      "850 \t 1.2674873 \t 2.7580993 \t 1.7580953\n",
      "900 \t 1.2674873 \t 2.7580993 \t 1.7580953\n",
      "950 \t 1.2674873 \t 2.7580993 \t 1.7580953\n",
      "1000 \t 1.2674873 \t 2.7580993 \t 1.7580953\n"
     ]
    }
   ],
   "source": [
    "nb_epoch = 1001\n",
    "vloss = []\n",
    "vb = []\n",
    "vw = []\n",
    "for step in range(nb_epoch):\n",
    "  sess.run(train)\n",
    "  loss1 = sess.run(loss)\n",
    "  vloss.append(loss1)\n",
    "\n",
    "  if step % 50 == 0:\n",
    "    w1 = sess.run(W)[0]\n",
    "    b1 = sess.run(b)[0]\n",
    "\n",
    "    print(step,'\\t', loss1, '\\t', w1, '\\t', b1)"
   ]
  },
  {
   "cell_type": "code",
   "execution_count": null,
   "metadata": {
    "colab": {
     "base_uri": "https://localhost:8080/",
     "height": 298
    },
    "executionInfo": {
     "elapsed": 1753,
     "status": "ok",
     "timestamp": 1601205561294,
     "user": {
      "displayName": "함윤성",
      "photoUrl": "",
      "userId": "14807511260693798205"
     },
     "user_tz": -540
    },
    "id": "gaV0bE5K-d3-",
    "outputId": "6861f103-c0c2-4674-f9b9-f15e5b2afe92"
   },
   "outputs": [
    {
     "data": {
      "text/plain": [
       "Text(0, 0.5, 'loss')"
      ]
     },
     "execution_count": 158,
     "metadata": {
      "tags": []
     },
     "output_type": "execute_result"
    },
    {
     "data": {
      "image/png": "[encoded data removed]",
      "text/plain": [
       "<Figure size 432x288 with 1 Axes>"
      ]
     },
     "metadata": {
      "needs_background": "light",
      "tags": []
     },
     "output_type": "display_data"
    }
   ],
   "source": [
    "plt.plot(vloss[:20], '.-')\n",
    "plt.xlabel('epoch')\n",
    "plt.ylabel('loss')"
   ]
  },
  {
   "cell_type": "code",
   "execution_count": null,
   "metadata": {
    "id": "_f-p-xz--6GH"
   },
   "outputs": [],
   "source": [
    "w1 = sess.run(W)[0]\n",
    "b1 = sess.run(b)[0]"
   ]
  },
  {
   "cell_type": "code",
   "execution_count": null,
   "metadata": {
    "colab": {
     "base_uri": "https://localhost:8080/",
     "height": 35
    },
    "executionInfo": {
     "elapsed": 1547,
     "status": "ok",
     "timestamp": 1601205561295,
     "user": {
      "displayName": "함윤성",
      "photoUrl": "",
      "userId": "14807511260693798205"
     },
     "user_tz": -540
    },
    "id": "2u29em45_HBG",
    "outputId": "fd3f7001-5691-4b38-ffa2-4d1c694772de"
   },
   "outputs": [
    {
     "name": "stdout",
     "output_type": "stream",
     "text": [
      "2.7580993 1.7580953\n"
     ]
    }
   ],
   "source": [
    "print(w1, b1)"
   ]
  },
  {
   "cell_type": "code",
   "execution_count": null,
   "metadata": {
    "colab": {
     "base_uri": "https://localhost:8080/",
     "height": 35
    },
    "executionInfo": {
     "elapsed": 1448,
     "status": "ok",
     "timestamp": 1601205561296,
     "user": {
      "displayName": "함윤성",
      "photoUrl": "",
      "userId": "14807511260693798205"
     },
     "user_tz": -540
    },
    "id": "bUmkEb5L_RWt",
    "outputId": "18bdbc22-42ac-4ec1-e8d8-5962a3ebd2d9"
   },
   "outputs": [
    {
     "name": "stdout",
     "output_type": "stream",
     "text": [
      "y = 2.7580993x + 1.7580953\n"
     ]
    }
   ],
   "source": [
    "str1 = 'y = ' + str(w1) +'x + ' + str(b1)\n",
    "print(str1)"
   ]
  },
  {
   "cell_type": "code",
   "execution_count": null,
   "metadata": {
    "colab": {
     "base_uri": "https://localhost:8080/",
     "height": 571
    },
    "executionInfo": {
     "elapsed": 1535,
     "status": "ok",
     "timestamp": 1601205561892,
     "user": {
      "displayName": "함윤성",
      "photoUrl": "",
      "userId": "14807511260693798205"
     },
     "user_tz": -540
    },
    "id": "5YLB4D08A0yL",
    "outputId": "50d9a79c-6729-4388-b556-6b808f0c3700"
   },
   "outputs": [
    {
     "data": {
      "text/plain": [
       "Text(0.5, 1.0, 'y = 2.7580993x + 1.7580953')"
      ]
     },
     "execution_count": 162,
     "metadata": {
      "tags": []
     },
     "output_type": "execute_result"
    },
    {
     "data": {
      "image/png": "[encoded data removed]",
      "text/plain": [
       "<Figure size 720x648 with 1 Axes>"
      ]
     },
     "metadata": {
      "needs_background": "light",
      "tags": []
     },
     "output_type": "display_data"
    }
   ],
   "source": [
    "plt.figure(figsize=(10,9)) \n",
    "plt.plot(x_train, y_train,'o') \n",
    "\n",
    "\n",
    "x1 = np.linspace(np.min(x_train)-1, np.max(x_train)+1)\n",
    "y1 = w1*x1 + b1\n",
    "plt.plot(x1, y1)\n",
    "\n",
    "plt.grid() \n",
    "plt.title(str1)"
   ]
  },
  {
   "cell_type": "code",
   "execution_count": null,
   "metadata": {
    "id": "6CdeXQaHP14u"
   },
   "outputs": [],
   "source": [
    ""
   ]
  }
 ],
 "metadata": {
  "colab": {
   "authorship_tag": "ABX9TyMmXYTcHKjD/irxXAYE+8vs",
   "collapsed_sections": [],
   "name": "01_linear_regression_using_tensorflow_homework.ipynb",
   "provenance": []
  },
  "kernelspec": {
   "display_name": "Python 3",
   "name": "python3"
  }
 },
 "nbformat": 4,
 "nbformat_minor": 0
}
