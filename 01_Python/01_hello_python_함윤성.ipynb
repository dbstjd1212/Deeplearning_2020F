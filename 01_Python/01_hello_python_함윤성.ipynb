{
 "cells": [
  {
   "cell_type": "markdown",
   "metadata": {
    "colab_type": "text",
    "id": "mwk33c7Yfp8E"
   },
   "source": [
    "# **Python tutorial #1**"
   ]
  },
  {
   "cell_type": "markdown",
   "metadata": {
    "colab_type": "text",
    "id": "HRrgY-B3eW9r"
   },
   "source": [
    "**Hello World!**"
   ]
  },
  {
   "cell_type": "code",
   "execution_count": null,
   "metadata": {
    "colab": {
     "base_uri": "https://localhost:8080/",
     "height": 53
    },
    "colab_type": "code",
    "executionInfo": {
     "elapsed": 1030,
     "status": "ok",
     "timestamp": 1599111640994,
     "user": {
      "displayName": "함윤성",
      "photoUrl": "",
      "userId": "14807511260693798205"
     },
     "user_tz": -540
    },
    "id": "BM2d5Du_eMVy",
    "outputId": "7603e300-3791-445e-c4c9-57b5d28cff08"
   },
   "outputs": [
    {
     "name": "stdout",
     "output_type": "stream",
     "text": [
      "Hello World\n",
      "Hello World 2 + 3 = 5\n"
     ]
    }
   ],
   "source": [
    "print('Hello World')\n",
    "print('Hello World {} + {} = {}'.format(2, 3, 2+3))"
   ]
  },
  {
   "cell_type": "markdown",
   "metadata": {
    "colab_type": "text",
    "id": "-YEhDW-vfayX"
   },
   "source": [
    "**Basic data types**"
   ]
  },
  {
   "cell_type": "code",
   "execution_count": null,
   "metadata": {
    "colab": {
     "base_uri": "https://localhost:8080/",
     "height": 53
    },
    "colab_type": "code",
    "executionInfo": {
     "elapsed": 1050,
     "status": "ok",
     "timestamp": 1599111936622,
     "user": {
      "displayName": "함윤성",
      "photoUrl": "",
      "userId": "14807511260693798205"
     },
     "user_tz": -540
    },
    "id": "thFfHwT6eqko",
    "outputId": "947d7697-7f55-4253-98b2-a03625db124b"
   },
   "outputs": [
    {
     "name": "stdout",
     "output_type": "stream",
     "text": [
      "<class 'int'>\n",
      "3\n"
     ]
    }
   ],
   "source": [
    "x = 3\n",
    "print(type(x))\n",
    "print(x)"
   ]
  },
  {
   "cell_type": "code",
   "execution_count": null,
   "metadata": {
    "colab": {
     "base_uri": "https://localhost:8080/",
     "height": 89
    },
    "colab_type": "code",
    "executionInfo": {
     "elapsed": 1077,
     "status": "ok",
     "timestamp": 1599111938819,
     "user": {
      "displayName": "함윤성",
      "photoUrl": "",
      "userId": "14807511260693798205"
     },
     "user_tz": -540
    },
    "id": "Co7G1mybfzUp",
    "outputId": "2c05968f-5696-4030-af9b-ab5ba56709b3"
   },
   "outputs": [
    {
     "name": "stdout",
     "output_type": "stream",
     "text": [
      "4\n",
      "2\n",
      "6\n",
      "9\n"
     ]
    }
   ],
   "source": [
    "print(x + 1)\n",
    "print(x - 1)\n",
    "print(x * 2)\n",
    "print(x ** 2)"
   ]
  },
  {
   "cell_type": "markdown",
   "metadata": {
    "colab_type": "text",
    "id": "Q4YgZ3gjf9dD"
   },
   "source": [
    "**For statement**"
   ]
  },
  {
   "cell_type": "code",
   "execution_count": null,
   "metadata": {
    "colab": {
     "base_uri": "https://localhost:8080/",
     "height": 35
    },
    "colab_type": "code",
    "executionInfo": {
     "elapsed": 1154,
     "status": "ok",
     "timestamp": 1599111975995,
     "user": {
      "displayName": "함윤성",
      "photoUrl": "",
      "userId": "14807511260693798205"
     },
     "user_tz": -540
    },
    "id": "uDPTfo2MfzSW",
    "outputId": "e0740253-2559-4e11-b19b-3a10209804bf"
   },
   "outputs": [
    {
     "name": "stdout",
     "output_type": "stream",
     "text": [
      "range(0, 5)\n"
     ]
    }
   ],
   "source": [
    "A = range(5)\n",
    "print(A)"
   ]
  },
  {
   "cell_type": "code",
   "execution_count": null,
   "metadata": {
    "colab": {
     "base_uri": "https://localhost:8080/",
     "height": 35
    },
    "colab_type": "code",
    "executionInfo": {
     "elapsed": 976,
     "status": "ok",
     "timestamp": 1599112027140,
     "user": {
      "displayName": "함윤성",
      "photoUrl": "",
      "userId": "14807511260693798205"
     },
     "user_tz": -540
    },
    "id": "a0dkKnrNfzQP",
    "outputId": "ca376617-9a5b-49f3-efb3-e46787c62c71"
   },
   "outputs": [
    {
     "name": "stdout",
     "output_type": "stream",
     "text": [
      "2\n"
     ]
    }
   ],
   "source": [
    "print(A[2])"
   ]
  },
  {
   "cell_type": "code",
   "execution_count": null,
   "metadata": {
    "colab": {
     "base_uri": "https://localhost:8080/",
     "height": 107
    },
    "colab_type": "code",
    "executionInfo": {
     "elapsed": 981,
     "status": "ok",
     "timestamp": 1599112026308,
     "user": {
      "displayName": "함윤성",
      "photoUrl": "",
      "userId": "14807511260693798205"
     },
     "user_tz": -540
    },
    "id": "vvwDTsfLfzOT",
    "outputId": "b59be28c-b20d-423a-fb4f-387522f28195"
   },
   "outputs": [
    {
     "name": "stdout",
     "output_type": "stream",
     "text": [
      "0 ----- 0\n",
      "1 ----- 1\n",
      "2 ----- 2\n",
      "3 ----- 3\n",
      "4 ----- 4\n"
     ]
    }
   ],
   "source": [
    "for i in range(5):\n",
    "   print('{} ----- {}'.format(i, A[i]))"
   ]
  },
  {
   "cell_type": "markdown",
   "metadata": {
    "colab_type": "text",
    "id": "rD0UJfajgTSq"
   },
   "source": [
    "**Excersise**"
   ]
  },
  {
   "cell_type": "code",
   "execution_count": null,
   "metadata": {
    "colab": {
     "base_uri": "https://localhost:8080/",
     "height": 197
    },
    "colab_type": "code",
    "executionInfo": {
     "elapsed": 955,
     "status": "ok",
     "timestamp": 1599112147676,
     "user": {
      "displayName": "함윤성",
      "photoUrl": "",
      "userId": "14807511260693798205"
     },
     "user_tz": -540
    },
    "id": "OBUBH-MBfzMK",
    "outputId": "c7c676ee-2e3a-4811-9525-51c4ad0d2ccd"
   },
   "outputs": [
    {
     "name": "stdout",
     "output_type": "stream",
     "text": [
      "9 x 0 = 0\n",
      "9 x 1 = 9\n",
      "9 x 2 = 18\n",
      "9 x 3 = 27\n",
      "9 x 4 = 36\n",
      "9 x 5 = 45\n",
      "9 x 6 = 54\n",
      "9 x 7 = 63\n",
      "9 x 8 = 72\n",
      "9 x 9 = 81\n"
     ]
    }
   ],
   "source": [
    "for i in range(10):\n",
    " print('{} x {} = {}'.format(9, i, 9*i))"
   ]
  },
  {
   "cell_type": "markdown",
   "metadata": {
    "colab_type": "text",
    "id": "SLBH3-szgwRQ"
   },
   "source": [
    "**Operators**"
   ]
  },
  {
   "cell_type": "code",
   "execution_count": null,
   "metadata": {
    "colab": {
     "base_uri": "https://localhost:8080/",
     "height": 71
    },
    "colab_type": "code",
    "executionInfo": {
     "elapsed": 1019,
     "status": "ok",
     "timestamp": 1599112232787,
     "user": {
      "displayName": "함윤성",
      "photoUrl": "",
      "userId": "14807511260693798205"
     },
     "user_tz": -540
    },
    "id": "pHfzgQfTfzII",
    "outputId": "a4aae607-8062-4209-a5c3-0b4a0ac23d7f"
   },
   "outputs": [
    {
     "name": "stdout",
     "output_type": "stream",
     "text": [
      "(1, 2, 3, 1, 2, 3, 1, 2, 3)\n",
      "[1, 2, 3, 1, 2, 3, 1, 2, 3]\n",
      "Hello Hello Hello \n"
     ]
    }
   ],
   "source": [
    "print((1, 2, 3) * 3)\n",
    "print([1, 2, 3] * 3)\n",
    "print(\"Hello \"*3)"
   ]
  },
  {
   "cell_type": "markdown",
   "metadata": {
    "colab_type": "text",
    "id": "upklIGlxg1q1"
   },
   "source": [
    "**Containers**\n",
    "\n",
    "Python includes several built-in container types: lists, dictionaries, sets, and tuples."
   ]
  },
  {
   "cell_type": "code",
   "execution_count": null,
   "metadata": {
    "colab": {
     "base_uri": "https://localhost:8080/",
     "height": 53
    },
    "colab_type": "code",
    "executionInfo": {
     "elapsed": 1209,
     "status": "ok",
     "timestamp": 1599112329719,
     "user": {
      "displayName": "함윤성",
      "photoUrl": "",
      "userId": "14807511260693798205"
     },
     "user_tz": -540
    },
    "id": "Scqbg7PefzF5",
    "outputId": "0d3a7533-6a03-4dd2-db87-e9102be512b2"
   },
   "outputs": [
    {
     "name": "stdout",
     "output_type": "stream",
     "text": [
      "January\n",
      "index of 7 ==>  August\n"
     ]
    }
   ],
   "source": [
    "months = ('January','February','March','April','May','June',\\\n",
    "'July','August','September','October','November','December')\n",
    "print(months[0])\n",
    "print(\"index of 7 ==> \" , months[7])"
   ]
  },
  {
   "cell_type": "code",
   "execution_count": null,
   "metadata": {
    "colab": {
     "base_uri": "https://localhost:8080/",
     "height": 233
    },
    "colab_type": "code",
    "executionInfo": {
     "elapsed": 2216,
     "status": "ok",
     "timestamp": 1599112352995,
     "user": {
      "displayName": "함윤성",
      "photoUrl": "",
      "userId": "14807511260693798205"
     },
     "user_tz": -540
    },
    "id": "pVLS3-qzfzDy",
    "outputId": "82c6cd4b-fbeb-49e5-fa81-47b320563d91"
   },
   "outputs": [
    {
     "name": "stdout",
     "output_type": "stream",
     "text": [
      "January\n",
      "February\n",
      "March\n",
      "April\n",
      "May\n",
      "June\n",
      "July\n",
      "August\n",
      "September\n",
      "October\n",
      "November\n",
      "December\n"
     ]
    }
   ],
   "source": [
    "for item in months:\n",
    "   print(item)"
   ]
  },
  {
   "cell_type": "code",
   "execution_count": null,
   "metadata": {
    "colab": {
     "base_uri": "https://localhost:8080/",
     "height": 143
    },
    "colab_type": "code",
    "executionInfo": {
     "elapsed": 2462,
     "status": "ok",
     "timestamp": 1599112388075,
     "user": {
      "displayName": "함윤성",
      "photoUrl": "",
      "userId": "14807511260693798205"
     },
     "user_tz": -540
    },
    "id": "PvTh2IJ1fzBj",
    "outputId": "5ede14cd-3773-4397-e594-eafb3bddaa8d"
   },
   "outputs": [
    {
     "name": "stdout",
     "output_type": "stream",
     "text": [
      "('john', 32, (2, 3, 4, 5), 'hello')\n",
      "(2, 3, 4, 5)\n",
      "3\n",
      "('john', 32)\n",
      "((2, 3, 4, 5), 'hello')\n",
      "hello\n",
      "(2, 3, 4, 5)\n"
     ]
    }
   ],
   "source": [
    "t = ('john', 32, (2,3,4,5), 'hello')\n",
    "print(t)\n",
    "print(t[2])\n",
    "print(t[2][1])\n",
    "print(t[:2])\n",
    "print(t[2:])\n",
    "print(t[-1])\n",
    "print(t[-2])"
   ]
  },
  {
   "cell_type": "markdown",
   "metadata": {
    "colab_type": "text",
    "id": "tR7eVtgxhssr"
   },
   "source": [
    "**List**\n",
    "\n",
    "Mutable ordered sequence of items of mixed types"
   ]
  },
  {
   "cell_type": "code",
   "execution_count": null,
   "metadata": {
    "colab": {
     "base_uri": "https://localhost:8080/",
     "height": 35
    },
    "colab_type": "code",
    "executionInfo": {
     "elapsed": 2516,
     "status": "ok",
     "timestamp": 1599112449617,
     "user": {
      "displayName": "함윤성",
      "photoUrl": "",
      "userId": "14807511260693798205"
     },
     "user_tz": -540
    },
    "id": "WlB6Dk6Ufy_P",
    "outputId": "9eda9e81-0eb6-4fac-b15e-38650649a18a"
   },
   "outputs": [
    {
     "name": "stdout",
     "output_type": "stream",
     "text": [
      "['hallym', 1, 3.141572, 'hello']\n"
     ]
    }
   ],
   "source": [
    "li = ['hallym', 1, 3.141572, 'hello']\n",
    "print(li)"
   ]
  },
  {
   "cell_type": "code",
   "execution_count": null,
   "metadata": {
    "colab": {
     "base_uri": "https://localhost:8080/",
     "height": 35
    },
    "colab_type": "code",
    "executionInfo": {
     "elapsed": 1786,
     "status": "ok",
     "timestamp": 1599112449618,
     "user": {
      "displayName": "함윤성",
      "photoUrl": "",
      "userId": "14807511260693798205"
     },
     "user_tz": -540
    },
    "id": "wIT6L3i-fy9Q",
    "outputId": "66813235-6183-43d4-defe-23f01111fc04"
   },
   "outputs": [
    {
     "name": "stdout",
     "output_type": "stream",
     "text": [
      "['hallym', 45, 3.141572, 'hello']\n"
     ]
    }
   ],
   "source": [
    "li[1] = 45\n",
    "print(li)"
   ]
  },
  {
   "cell_type": "code",
   "execution_count": null,
   "metadata": {
    "colab": {
     "base_uri": "https://localhost:8080/",
     "height": 35
    },
    "colab_type": "code",
    "executionInfo": {
     "elapsed": 1878,
     "status": "ok",
     "timestamp": 1599112450318,
     "user": {
      "displayName": "함윤성",
      "photoUrl": "",
      "userId": "14807511260693798205"
     },
     "user_tz": -540
    },
    "id": "5ppyeyBLfy7T",
    "outputId": "3c662db3-c0a1-44ef-d46b-48f2b69015e7"
   },
   "outputs": [
    {
     "name": "stdout",
     "output_type": "stream",
     "text": [
      "['hallym', 45, 3.141572, 'hello', 'September']\n"
     ]
    }
   ],
   "source": [
    "li.append('September')\n",
    "print(li)"
   ]
  },
  {
   "cell_type": "code",
   "execution_count": null,
   "metadata": {
    "colab": {},
    "colab_type": "code",
    "id": "WtTGf177fy42"
   },
   "outputs": [],
   "source": [
    "v = []"
   ]
  },
  {
   "cell_type": "code",
   "execution_count": null,
   "metadata": {
    "colab": {
     "base_uri": "https://localhost:8080/",
     "height": 71
    },
    "colab_type": "code",
    "executionInfo": {
     "elapsed": 969,
     "status": "ok",
     "timestamp": 1599112500009,
     "user": {
      "displayName": "함윤성",
      "photoUrl": "",
      "userId": "14807511260693798205"
     },
     "user_tz": -540
    },
    "id": "KScTrTkLh7pm",
    "outputId": "a99e3664-d299-4e1c-89f4-1f3ba6877646"
   },
   "outputs": [
    {
     "name": "stdout",
     "output_type": "stream",
     "text": [
      "0 [0]\n",
      "1 [0, 5]\n",
      "2 [0, 5, 10]\n"
     ]
    }
   ],
   "source": [
    "for i in range(0, 3):\n",
    "   v.append(i*5)\n",
    "   print(i, v)"
   ]
  },
  {
   "cell_type": "markdown",
   "metadata": {
    "colab_type": "text",
    "id": "ShAvZTUTiH20"
   },
   "source": [
    "**+연산자**"
   ]
  },
  {
   "cell_type": "code",
   "execution_count": null,
   "metadata": {
    "colab": {
     "base_uri": "https://localhost:8080/",
     "height": 71
    },
    "colab_type": "code",
    "executionInfo": {
     "elapsed": 993,
     "status": "ok",
     "timestamp": 1599112510734,
     "user": {
      "displayName": "함윤성",
      "photoUrl": "",
      "userId": "14807511260693798205"
     },
     "user_tz": -540
    },
    "id": "ZN_xBh8oh7_0",
    "outputId": "d97a8310-77e2-4709-a4cd-f94a28ae2960"
   },
   "outputs": [
    {
     "name": "stdout",
     "output_type": "stream",
     "text": [
      "(1, 2, 3, 4, 5, 6)\n",
      "[1, 2, 3, 4, 5, 6]\n",
      "Hello World\n"
     ]
    }
   ],
   "source": [
    "print((1, 2, 3) + (4, 5, 6))\n",
    "print([1, 2, 3] + [4, 5, 6])\n",
    "print(\"Hello\" + \" \" + \"World\")"
   ]
  },
  {
   "cell_type": "markdown",
   "metadata": {
    "colab_type": "text",
    "id": "jpRykCk5iO-_"
   },
   "source": [
    "*** 연산자**\n",
    "\n",
    "The * operator produces a new tuple, list, or string that \"repeats\" the original content."
   ]
  },
  {
   "cell_type": "code",
   "execution_count": null,
   "metadata": {
    "colab": {
     "base_uri": "https://localhost:8080/",
     "height": 53
    },
    "colab_type": "code",
    "executionInfo": {
     "elapsed": 1017,
     "status": "ok",
     "timestamp": 1599112616016,
     "user": {
      "displayName": "함윤성",
      "photoUrl": "",
      "userId": "14807511260693798205"
     },
     "user_tz": -540
    },
    "id": "1nqbu9kUh7mn",
    "outputId": "e0066f93-ca55-424b-8a42-8638e53fed9c"
   },
   "outputs": [
    {
     "name": "stdout",
     "output_type": "stream",
     "text": [
      "<class 'float'>\n",
      "2.5 3.5 5.0 6.25\n"
     ]
    }
   ],
   "source": [
    "y =2.5\n",
    "print(type(y))\n",
    "print(y, y + 1, y * 2, y ** 2)"
   ]
  },
  {
   "cell_type": "markdown",
   "metadata": {
    "colab_type": "text",
    "id": "_s_HYfDSii1f"
   },
   "source": [
    "**Enumeration**"
   ]
  },
  {
   "cell_type": "code",
   "execution_count": null,
   "metadata": {
    "colab": {
     "base_uri": "https://localhost:8080/",
     "height": 71
    },
    "colab_type": "code",
    "executionInfo": {
     "elapsed": 1011,
     "status": "ok",
     "timestamp": 1599112641514,
     "user": {
      "displayName": "함윤성",
      "photoUrl": "",
      "userId": "14807511260693798205"
     },
     "user_tz": -540
    },
    "id": "wEpVOWyriiFC",
    "outputId": "5ed9fc15-2204-404f-975a-e8f6d9ae2a86"
   },
   "outputs": [
    {
     "name": "stdout",
     "output_type": "stream",
     "text": [
      "0 ---> 0\n",
      "1 ---> 5\n",
      "2 ---> 10\n"
     ]
    }
   ],
   "source": [
    "for i, val in enumerate(v):\n",
    " print('{} ---> {}'.format(i, val))"
   ]
  },
  {
   "cell_type": "code",
   "execution_count": null,
   "metadata": {
    "colab": {
     "base_uri": "https://localhost:8080/",
     "height": 35
    },
    "colab_type": "code",
    "executionInfo": {
     "elapsed": 1349,
     "status": "ok",
     "timestamp": 1599112652675,
     "user": {
      "displayName": "함윤성",
      "photoUrl": "",
      "userId": "14807511260693798205"
     },
     "user_tz": -540
    },
    "id": "fa6rzx0EioD9",
    "outputId": "4c15061b-8aef-4961-e499-0b0e7382e994"
   },
   "outputs": [
    {
     "name": "stdout",
     "output_type": "stream",
     "text": [
      "['A', 'B', 'C', '0', '1', '2', '3']\n"
     ]
    }
   ],
   "source": [
    "v2 = [ 'A', 'B', 'C', '0', '1', '2', '3']\n",
    "print(v2)"
   ]
  },
  {
   "cell_type": "code",
   "execution_count": null,
   "metadata": {
    "colab": {
     "base_uri": "https://localhost:8080/",
     "height": 143
    },
    "colab_type": "code",
    "executionInfo": {
     "elapsed": 851,
     "status": "ok",
     "timestamp": 1599112652679,
     "user": {
      "displayName": "함윤성",
      "photoUrl": "",
      "userId": "14807511260693798205"
     },
     "user_tz": -540
    },
    "id": "67Hj0xvUintO",
    "outputId": "0e29b59c-a9b6-4d46-8325-688539afdb32"
   },
   "outputs": [
    {
     "name": "stdout",
     "output_type": "stream",
     "text": [
      "0 ---> A\n",
      "1 ---> B\n",
      "2 ---> C\n",
      "3 ---> 0\n",
      "4 ---> 1\n",
      "5 ---> 2\n",
      "6 ---> 3\n"
     ]
    }
   ],
   "source": [
    "for i, val in enumerate(v2):\n",
    " print('{} ---> {}'.format(i, val))"
   ]
  }
 ],
 "metadata": {
  "colab": {
   "authorship_tag": "ABX9TyNH5q3IaYRwmSarDDaEqUtV",
   "collapsed_sections": [],
   "name": "01_hello_python_함윤성.ipynb",
   "provenance": []
  },
  "kernelspec": {
   "display_name": "Python 3",
   "name": "python3"
  }
 },
 "nbformat": 4,
 "nbformat_minor": 0
}
