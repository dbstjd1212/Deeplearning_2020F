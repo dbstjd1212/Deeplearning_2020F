{
 "cells": [
  {
   "cell_type": "markdown",
   "metadata": {
    "id": "ZD2UOU_QeV0x"
   },
   "source": [
    "# **Math Primer for AI**"
   ]
  },
  {
   "cell_type": "code",
   "execution_count": 1,
   "metadata": {
    "executionInfo": {
     "elapsed": 1103,
     "status": "ok",
     "timestamp": 1606392830475,
     "user": {
      "displayName": "함윤성",
      "photoUrl": "",
      "userId": "07284553961760174627"
     },
     "user_tz": -540
    },
    "id": "MURU-4HZeAWr"
   },
   "outputs": [],
   "source": [
    "import numpy as np"
   ]
  },
  {
   "cell_type": "markdown",
   "metadata": {
    "id": "W0HieLnrebT4"
   },
   "source": [
    "\n",
    "**Matrix multiplication**"
   ]
  },
  {
   "cell_type": "code",
   "execution_count": 2,
   "metadata": {
    "colab": {
     "base_uri": "https://localhost:8080/"
    },
    "executionInfo": {
     "elapsed": 1616,
     "status": "ok",
     "timestamp": 1606392830994,
     "user": {
      "displayName": "함윤성",
      "photoUrl": "",
      "userId": "07284553961760174627"
     },
     "user_tz": -540
    },
    "id": "wCA6dxileGif",
    "outputId": "e49ff8c0-ef37-4929-fe61-8d1b97fbf58f"
   },
   "outputs": [
    {
     "name": "stdout",
     "output_type": "stream",
     "text": [
      "[[ 1 -3  2]\n",
      " [ 4  0 -5]]\n"
     ]
    }
   ],
   "source": [
    "a = np.array([[1, -3, 2], [4, 0, -5]])\n",
    "print(a)"
   ]
  },
  {
   "cell_type": "code",
   "execution_count": 3,
   "metadata": {
    "colab": {
     "base_uri": "https://localhost:8080/"
    },
    "executionInfo": {
     "elapsed": 1614,
     "status": "ok",
     "timestamp": 1606392830995,
     "user": {
      "displayName": "함윤성",
      "photoUrl": "",
      "userId": "07284553961760174627"
     },
     "user_tz": -540
    },
    "id": "BFC--xtFeGgT",
    "outputId": "5a6f2e86-672e-4878-8e53-17df7f53ce46"
   },
   "outputs": [
    {
     "data": {
      "text/plain": [
       "(2, 3)"
      ]
     },
     "execution_count": 3,
     "metadata": {
      "tags": []
     },
     "output_type": "execute_result"
    }
   ],
   "source": [
    "a.shape"
   ]
  },
  {
   "cell_type": "code",
   "execution_count": 4,
   "metadata": {
    "colab": {
     "base_uri": "https://localhost:8080/"
    },
    "executionInfo": {
     "elapsed": 1611,
     "status": "ok",
     "timestamp": 1606392830995,
     "user": {
      "displayName": "함윤성",
      "photoUrl": "",
      "userId": "07284553961760174627"
     },
     "user_tz": -540
    },
    "id": "lKWOMGkUeGeY",
    "outputId": "a513b063-3654-4297-a065-3f2d0243a23e"
   },
   "outputs": [
    {
     "name": "stdout",
     "output_type": "stream",
     "text": [
      "[[3]\n",
      " [1]\n",
      " [2]]\n"
     ]
    }
   ],
   "source": [
    "b = np.array([[3], [1], [2]])\n",
    "print(b)"
   ]
  },
  {
   "cell_type": "code",
   "execution_count": 5,
   "metadata": {
    "colab": {
     "base_uri": "https://localhost:8080/"
    },
    "executionInfo": {
     "elapsed": 1610,
     "status": "ok",
     "timestamp": 1606392830996,
     "user": {
      "displayName": "함윤성",
      "photoUrl": "",
      "userId": "07284553961760174627"
     },
     "user_tz": -540
    },
    "id": "HknvS3EaeGb-",
    "outputId": "e3f88704-fcfc-407b-a29f-ec0ad9365422"
   },
   "outputs": [
    {
     "data": {
      "text/plain": [
       "(3, 1)"
      ]
     },
     "execution_count": 5,
     "metadata": {
      "tags": []
     },
     "output_type": "execute_result"
    }
   ],
   "source": [
    "b.shape"
   ]
  },
  {
   "cell_type": "code",
   "execution_count": 6,
   "metadata": {
    "colab": {
     "base_uri": "https://localhost:8080/"
    },
    "executionInfo": {
     "elapsed": 1608,
     "status": "ok",
     "timestamp": 1606392830997,
     "user": {
      "displayName": "함윤성",
      "photoUrl": "",
      "userId": "07284553961760174627"
     },
     "user_tz": -540
    },
    "id": "zlAeHOu-eGZg",
    "outputId": "e1a34c7a-607e-47cc-acf1-405365f92bab"
   },
   "outputs": [
    {
     "name": "stdout",
     "output_type": "stream",
     "text": [
      "[[4]\n",
      " [2]]\n"
     ]
    }
   ],
   "source": [
    "c = np.matmul(a, b)\n",
    "print(c)"
   ]
  },
  {
   "cell_type": "code",
   "execution_count": 7,
   "metadata": {
    "colab": {
     "base_uri": "https://localhost:8080/"
    },
    "executionInfo": {
     "elapsed": 1607,
     "status": "ok",
     "timestamp": 1606392830998,
     "user": {
      "displayName": "함윤성",
      "photoUrl": "",
      "userId": "07284553961760174627"
     },
     "user_tz": -540
    },
    "id": "ptoaKicXeOm9",
    "outputId": "433850fd-2ceb-4554-ae5c-e4fba1d955e4"
   },
   "outputs": [
    {
     "name": "stdout",
     "output_type": "stream",
     "text": [
      "[[4]\n",
      " [2]]\n"
     ]
    }
   ],
   "source": [
    "d = np.dot(a, b)\n",
    "print(d)"
   ]
  },
  {
   "cell_type": "code",
   "execution_count": 8,
   "metadata": {
    "colab": {
     "base_uri": "https://localhost:8080/"
    },
    "executionInfo": {
     "elapsed": 1606,
     "status": "ok",
     "timestamp": 1606392831000,
     "user": {
      "displayName": "함윤성",
      "photoUrl": "",
      "userId": "07284553961760174627"
     },
     "user_tz": -540
    },
    "id": "c5Y_FZYfeQzr",
    "outputId": "d4d442bc-5f4a-44e5-ef25-41f2082ceffe"
   },
   "outputs": [
    {
     "data": {
      "text/plain": [
       "(2, 1)"
      ]
     },
     "execution_count": 8,
     "metadata": {
      "tags": []
     },
     "output_type": "execute_result"
    }
   ],
   "source": [
    "d.shape"
   ]
  }
 ],
 "metadata": {
  "colab": {
   "authorship_tag": "ABX9TyOCoVk8zj/1zjs/ZthQDfcP",
   "collapsed_sections": [],
   "name": "00_hello_MathPrimer.ipynb",
   "provenance": []
  },
  "kernelspec": {
   "display_name": "Python 3",
   "name": "python3"
  }
 },
 "nbformat": 4,
 "nbformat_minor": 0
}
